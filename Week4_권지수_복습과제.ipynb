{
 "cells": [
  {
   "cell_type": "markdown",
   "metadata": {},
   "source": [
    "# <mobile_price 데이터 셋을 이용한 SVM 실습>\n",
    "## 휴대폰의 여러가지 특성을 기반으로 가격 범위를 예측하는 분류 실습입니다. "
   ]
  },
  {
   "cell_type": "markdown",
   "metadata": {},
   "source": [
    "다음은 mobile_price.csv 데이터에 대한 설명 입니다.\n",
    "\n",
    "- battery_power: Total energy a battery can store in one time measured in mAh\n",
    "- blue: Has bluetooth or not\n",
    "- clock_speed: speed at which microprocessor executes instructions\n",
    "- dual_sim: Has dual sim support or not\t\n",
    "- fc: Front Camera mega pixels\n",
    "- four_g: Has 4G or not\n",
    "- int_memory: Internal Memory in Gigabytes\t\n",
    "- m_dep: Mobile Depth in cm\n",
    "- mobile_wt: Weight of mobile phone\n",
    "- n_cores: Number of cores of processor\t\n",
    "- pc: Primary Camera mega pixels\n",
    "- px_height: Pixel Resolution Height\n",
    "- px_width: Pixel Resolution Width\n",
    "- ram: Random Access Memory in Megabytes\n",
    "- sc_h: Screen Height of mobile in cm\n",
    "- sc_w: Screen Width of mobile in cm\n",
    "- talk_time: longest time that a single battery charge will last when you are\n",
    "- three_g: Has 3G or not\n",
    "- touch_screen: Has touch screen or not\n",
    "- wifi: Has wifi or not\n",
    "\n",
    "<br>\n",
    "더 자세한 데이터 정보는 https://www.kaggle.com/iabhishekofficial/mobile-price-classification 에서 확인하시면 됩니다.\n",
    "\n",
    "\n",
    "\n"
   ]
  },
  {
   "cell_type": "code",
   "execution_count": 1,
   "metadata": {},
   "outputs": [],
   "source": [
    "import numpy as np\n",
    "import pandas as pd\n",
    "import seaborn as sns\n",
    "import matplotlib.pyplot as plt\n",
    "from matplotlib.colors import ListedColormap"
   ]
  },
  {
   "cell_type": "markdown",
   "metadata": {},
   "source": [
    "### 1. mobile_price.csv 데이터 셋을 가져와서 처음 5개 행을 확인하시오."
   ]
  },
  {
   "cell_type": "code",
   "execution_count": 2,
   "metadata": {},
   "outputs": [
    {
     "data": {
      "text/html": [
       "<div>\n",
       "<style scoped>\n",
       "    .dataframe tbody tr th:only-of-type {\n",
       "        vertical-align: middle;\n",
       "    }\n",
       "\n",
       "    .dataframe tbody tr th {\n",
       "        vertical-align: top;\n",
       "    }\n",
       "\n",
       "    .dataframe thead th {\n",
       "        text-align: right;\n",
       "    }\n",
       "</style>\n",
       "<table border=\"1\" class=\"dataframe\">\n",
       "  <thead>\n",
       "    <tr style=\"text-align: right;\">\n",
       "      <th></th>\n",
       "      <th>battery_power</th>\n",
       "      <th>blue</th>\n",
       "      <th>clock_speed</th>\n",
       "      <th>dual_sim</th>\n",
       "      <th>fc</th>\n",
       "      <th>four_g</th>\n",
       "      <th>int_memory</th>\n",
       "      <th>m_dep</th>\n",
       "      <th>mobile_wt</th>\n",
       "      <th>n_cores</th>\n",
       "      <th>...</th>\n",
       "      <th>px_height</th>\n",
       "      <th>px_width</th>\n",
       "      <th>ram</th>\n",
       "      <th>sc_h</th>\n",
       "      <th>sc_w</th>\n",
       "      <th>talk_time</th>\n",
       "      <th>three_g</th>\n",
       "      <th>touch_screen</th>\n",
       "      <th>wifi</th>\n",
       "      <th>price_range</th>\n",
       "    </tr>\n",
       "  </thead>\n",
       "  <tbody>\n",
       "    <tr>\n",
       "      <th>0</th>\n",
       "      <td>842</td>\n",
       "      <td>0</td>\n",
       "      <td>2.2</td>\n",
       "      <td>0</td>\n",
       "      <td>1</td>\n",
       "      <td>0</td>\n",
       "      <td>7</td>\n",
       "      <td>0.6</td>\n",
       "      <td>188</td>\n",
       "      <td>2</td>\n",
       "      <td>...</td>\n",
       "      <td>20</td>\n",
       "      <td>756</td>\n",
       "      <td>2549</td>\n",
       "      <td>9</td>\n",
       "      <td>7</td>\n",
       "      <td>19</td>\n",
       "      <td>0</td>\n",
       "      <td>0</td>\n",
       "      <td>1</td>\n",
       "      <td>1</td>\n",
       "    </tr>\n",
       "    <tr>\n",
       "      <th>1</th>\n",
       "      <td>1021</td>\n",
       "      <td>1</td>\n",
       "      <td>0.5</td>\n",
       "      <td>1</td>\n",
       "      <td>0</td>\n",
       "      <td>1</td>\n",
       "      <td>53</td>\n",
       "      <td>0.7</td>\n",
       "      <td>136</td>\n",
       "      <td>3</td>\n",
       "      <td>...</td>\n",
       "      <td>905</td>\n",
       "      <td>1988</td>\n",
       "      <td>2631</td>\n",
       "      <td>17</td>\n",
       "      <td>3</td>\n",
       "      <td>7</td>\n",
       "      <td>1</td>\n",
       "      <td>1</td>\n",
       "      <td>0</td>\n",
       "      <td>2</td>\n",
       "    </tr>\n",
       "    <tr>\n",
       "      <th>2</th>\n",
       "      <td>563</td>\n",
       "      <td>1</td>\n",
       "      <td>0.5</td>\n",
       "      <td>1</td>\n",
       "      <td>2</td>\n",
       "      <td>1</td>\n",
       "      <td>41</td>\n",
       "      <td>0.9</td>\n",
       "      <td>145</td>\n",
       "      <td>5</td>\n",
       "      <td>...</td>\n",
       "      <td>1263</td>\n",
       "      <td>1716</td>\n",
       "      <td>2603</td>\n",
       "      <td>11</td>\n",
       "      <td>2</td>\n",
       "      <td>9</td>\n",
       "      <td>1</td>\n",
       "      <td>1</td>\n",
       "      <td>0</td>\n",
       "      <td>2</td>\n",
       "    </tr>\n",
       "    <tr>\n",
       "      <th>3</th>\n",
       "      <td>615</td>\n",
       "      <td>1</td>\n",
       "      <td>2.5</td>\n",
       "      <td>0</td>\n",
       "      <td>0</td>\n",
       "      <td>0</td>\n",
       "      <td>10</td>\n",
       "      <td>0.8</td>\n",
       "      <td>131</td>\n",
       "      <td>6</td>\n",
       "      <td>...</td>\n",
       "      <td>1216</td>\n",
       "      <td>1786</td>\n",
       "      <td>2769</td>\n",
       "      <td>16</td>\n",
       "      <td>8</td>\n",
       "      <td>11</td>\n",
       "      <td>1</td>\n",
       "      <td>0</td>\n",
       "      <td>0</td>\n",
       "      <td>2</td>\n",
       "    </tr>\n",
       "    <tr>\n",
       "      <th>4</th>\n",
       "      <td>1821</td>\n",
       "      <td>1</td>\n",
       "      <td>1.2</td>\n",
       "      <td>0</td>\n",
       "      <td>13</td>\n",
       "      <td>1</td>\n",
       "      <td>44</td>\n",
       "      <td>0.6</td>\n",
       "      <td>141</td>\n",
       "      <td>2</td>\n",
       "      <td>...</td>\n",
       "      <td>1208</td>\n",
       "      <td>1212</td>\n",
       "      <td>1411</td>\n",
       "      <td>8</td>\n",
       "      <td>2</td>\n",
       "      <td>15</td>\n",
       "      <td>1</td>\n",
       "      <td>1</td>\n",
       "      <td>0</td>\n",
       "      <td>1</td>\n",
       "    </tr>\n",
       "  </tbody>\n",
       "</table>\n",
       "<p>5 rows × 21 columns</p>\n",
       "</div>"
      ],
      "text/plain": [
       "   battery_power  blue  clock_speed  dual_sim  fc  four_g  int_memory  m_dep  \\\n",
       "0            842     0          2.2         0   1       0           7    0.6   \n",
       "1           1021     1          0.5         1   0       1          53    0.7   \n",
       "2            563     1          0.5         1   2       1          41    0.9   \n",
       "3            615     1          2.5         0   0       0          10    0.8   \n",
       "4           1821     1          1.2         0  13       1          44    0.6   \n",
       "\n",
       "   mobile_wt  n_cores  ...  px_height  px_width   ram  sc_h  sc_w  talk_time  \\\n",
       "0        188        2  ...         20       756  2549     9     7         19   \n",
       "1        136        3  ...        905      1988  2631    17     3          7   \n",
       "2        145        5  ...       1263      1716  2603    11     2          9   \n",
       "3        131        6  ...       1216      1786  2769    16     8         11   \n",
       "4        141        2  ...       1208      1212  1411     8     2         15   \n",
       "\n",
       "   three_g  touch_screen  wifi  price_range  \n",
       "0        0             0     1            1  \n",
       "1        1             1     0            2  \n",
       "2        1             1     0            2  \n",
       "3        1             0     0            2  \n",
       "4        1             1     0            1  \n",
       "\n",
       "[5 rows x 21 columns]"
      ]
     },
     "execution_count": 2,
     "metadata": {},
     "output_type": "execute_result"
    }
   ],
   "source": [
    "price = pd.read_csv('mobile_price.csv')\n",
    "price.head()"
   ]
  },
  {
   "cell_type": "markdown",
   "metadata": {},
   "source": [
    "### 2. info() 함수를 이용해 데이터프레임의 기본 정보를 확인하시오."
   ]
  },
  {
   "cell_type": "code",
   "execution_count": 3,
   "metadata": {},
   "outputs": [
    {
     "name": "stdout",
     "output_type": "stream",
     "text": [
      "<class 'pandas.core.frame.DataFrame'>\n",
      "RangeIndex: 2000 entries, 0 to 1999\n",
      "Data columns (total 21 columns):\n",
      " #   Column         Non-Null Count  Dtype  \n",
      "---  ------         --------------  -----  \n",
      " 0   battery_power  2000 non-null   int64  \n",
      " 1   blue           2000 non-null   int64  \n",
      " 2   clock_speed    2000 non-null   float64\n",
      " 3   dual_sim       2000 non-null   int64  \n",
      " 4   fc             2000 non-null   int64  \n",
      " 5   four_g         2000 non-null   int64  \n",
      " 6   int_memory     2000 non-null   int64  \n",
      " 7   m_dep          2000 non-null   float64\n",
      " 8   mobile_wt      2000 non-null   int64  \n",
      " 9   n_cores        2000 non-null   int64  \n",
      " 10  pc             2000 non-null   int64  \n",
      " 11  px_height      2000 non-null   int64  \n",
      " 12  px_width       2000 non-null   int64  \n",
      " 13  ram            2000 non-null   int64  \n",
      " 14  sc_h           2000 non-null   int64  \n",
      " 15  sc_w           2000 non-null   int64  \n",
      " 16  talk_time      2000 non-null   int64  \n",
      " 17  three_g        2000 non-null   int64  \n",
      " 18  touch_screen   2000 non-null   int64  \n",
      " 19  wifi           2000 non-null   int64  \n",
      " 20  price_range    2000 non-null   int64  \n",
      "dtypes: float64(2), int64(19)\n",
      "memory usage: 328.2 KB\n"
     ]
    }
   ],
   "source": [
    "price.info()"
   ]
  },
  {
   "cell_type": "markdown",
   "metadata": {},
   "source": [
    "### 3. describe() 함수를 이용해 Target 칼럼 'price_range'의 정보를 확인하시오."
   ]
  },
  {
   "cell_type": "code",
   "execution_count": 4,
   "metadata": {},
   "outputs": [
    {
     "data": {
      "text/plain": [
       "count    2000.000000\n",
       "mean        1.500000\n",
       "std         1.118314\n",
       "min         0.000000\n",
       "25%         0.750000\n",
       "50%         1.500000\n",
       "75%         2.250000\n",
       "max         3.000000\n",
       "Name: price_range, dtype: float64"
      ]
     },
     "execution_count": 4,
     "metadata": {},
     "output_type": "execute_result"
    }
   ],
   "source": [
    "price['price_range'].describe()"
   ]
  },
  {
   "cell_type": "markdown",
   "metadata": {},
   "source": [
    "### 4. unique()함수를 이용해 Target 클래스의 종류를 확인하시오."
   ]
  },
  {
   "cell_type": "code",
   "execution_count": 5,
   "metadata": {},
   "outputs": [
    {
     "data": {
      "text/plain": [
       "array([1, 2, 3, 0], dtype=int64)"
      ]
     },
     "execution_count": 5,
     "metadata": {},
     "output_type": "execute_result"
    }
   ],
   "source": [
    "price['price_range'].unique() #범주형 카테고리"
   ]
  },
  {
   "cell_type": "markdown",
   "metadata": {},
   "source": [
    "### 5. 피처 간 상관관계를 분석하시오."
   ]
  },
  {
   "cell_type": "code",
   "execution_count": 32,
   "metadata": {},
   "outputs": [
    {
     "data": {
      "text/plain": [
       "<matplotlib.axes._subplots.AxesSubplot at 0x2b7b981f280>"
      ]
     },
     "execution_count": 32,
     "metadata": {},
     "output_type": "execute_result"
    },
    {
     "data": {
      "image/png": "[encoded data removed]",
      "text/plain": [
       "<Figure size 1080x1080 with 2 Axes>"
      ]
     },
     "metadata": {
      "needs_background": "light"
     },
     "output_type": "display_data"
    }
   ],
   "source": [
    "plt.figure(figsize=(15,15))\n",
    "sns.heatmap(price.corr(), fmt='.2f', annot=True)"
   ]
  },
  {
   "cell_type": "code",
   "execution_count": 15,
   "metadata": {},
   "outputs": [],
   "source": [
    "from sklearn.svm import SVC\n",
    "from sklearn.model_selection import train_test_split\n",
    "from sklearn.preprocessing import MinMaxScaler"
   ]
  },
  {
   "cell_type": "markdown",
   "metadata": {},
   "source": [
    "### 6. 데이터의 타깃 칼럼을 분리해, X_mobile과 y_mobile으로 저장하시오"
   ]
  },
  {
   "cell_type": "code",
   "execution_count": 17,
   "metadata": {},
   "outputs": [],
   "source": [
    "y_mobile = price['price_range']\n",
    "X_mobile = price.drop(['price_range'], axis=1)"
   ]
  },
  {
   "cell_type": "markdown",
   "metadata": {},
   "source": [
    "### 7. 피처에 대해 MinMaxScaler()를 이용해 스케일링을 진행하시오."
   ]
  },
  {
   "cell_type": "code",
   "execution_count": 21,
   "metadata": {},
   "outputs": [],
   "source": [
    "mm = MinMaxScaler()\n",
    "\n",
    "X_mobile = mm.fit_transform(X_mobile)"
   ]
  },
  {
   "cell_type": "markdown",
   "metadata": {},
   "source": [
    "### 8. train_test_split를 사용하여 train 셋과 test 셋을 분리하시오\n",
    "- testset 의 size : 전체 데이터 셋의 20%\n",
    "- 각 set의 이름 : X_train, X_test, y_train, y_test\n",
    "- random_state = 42"
   ]
  },
  {
   "cell_type": "code",
   "execution_count": 22,
   "metadata": {},
   "outputs": [],
   "source": [
    "X_train, X_test, y_train, y_test= train_test_split(X_mobile, y_mobile, test_size = 0.25,random_state = 42)"
   ]
  },
  {
   "cell_type": "markdown",
   "metadata": {},
   "source": [
    "### 9. 선형 SVC 모델 (kernel: linear, C: 20) 을 만들어 fit 시키시오."
   ]
  },
  {
   "cell_type": "code",
   "execution_count": 23,
   "metadata": {},
   "outputs": [
    {
     "data": {
      "text/plain": [
       "SVC(C=20, kernel='linear')"
      ]
     },
     "execution_count": 23,
     "metadata": {},
     "output_type": "execute_result"
    }
   ],
   "source": [
    "lin_svc = SVC(kernel='linear', C=20)\n",
    "lin_svc.fit(X_train, y_train)"
   ]
  },
  {
   "cell_type": "markdown",
   "metadata": {},
   "source": [
    "### 10. cross_val_score(cv=5)를 이용하여 CV점수를 출력하고 그 평균값을 구하시오."
   ]
  },
  {
   "cell_type": "code",
   "execution_count": 24,
   "metadata": {},
   "outputs": [],
   "source": [
    "from sklearn.model_selection import cross_val_score"
   ]
  },
  {
   "cell_type": "code",
   "execution_count": 26,
   "metadata": {},
   "outputs": [
    {
     "name": "stdout",
     "output_type": "stream",
     "text": [
      "[0.98333333 0.95333333 0.96666667 0.92666667 0.95333333]\n",
      "평균값: 0.9566666666666667\n"
     ]
    }
   ],
   "source": [
    "score_list = cross_val_score(lin_svc, X_train, y_train, cv=5)\n",
    "print(score_list)\n",
    "print('평균값:', score_list.mean())"
   ]
  },
  {
   "cell_type": "markdown",
   "metadata": {},
   "source": [
    "### 11. 가우시안 RBF 커널을 사용해서 SVM 모델을 만들어 보시오. <br>그리고 지난 과제를 참고하여 GridSearchCV(cv=5)를 사용해서<br> Gamma와 C의 최적 파라미터를 찾고 best parameter, best score를 출력하시오.\n",
    "\n",
    "```python\n",
    "params = {\n",
    "    'gamma':[.1, .25, .5, 1],       \n",
    "    'C': [1,5,10,20,40,100]\n",
    "}\n",
    "```"
   ]
  },
  {
   "cell_type": "code",
   "execution_count": 28,
   "metadata": {},
   "outputs": [],
   "source": [
    "from sklearn.model_selection import GridSearchCV"
   ]
  },
  {
   "cell_type": "code",
   "execution_count": 36,
   "metadata": {},
   "outputs": [
    {
     "data": {
      "text/plain": [
       "GridSearchCV(cv=5, estimator=SVC(),\n",
       "             param_grid={'C': [1, 5, 10, 20, 40, 100],\n",
       "                         'gamma': [0.1, 0.25, 0.5, 1]})"
      ]
     },
     "execution_count": 36,
     "metadata": {},
     "output_type": "execute_result"
    }
   ],
   "source": [
    "rbf = SVC(kernel='rbf')\n",
    "\n",
    "params = {\n",
    "    'gamma':[.1, .25, .5, 1],       \n",
    "    'C': [1,5,10,20,40,100]\n",
    "}\n",
    "\n",
    "grid_search = GridSearchCV(rbf, params, cv=5)\n",
    "grid_search.fit(X_train, y_train)"
   ]
  },
  {
   "cell_type": "code",
   "execution_count": 37,
   "metadata": {},
   "outputs": [
    {
     "data": {
      "text/plain": [
       "{'C': 5, 'gamma': 0.1}"
      ]
     },
     "execution_count": 37,
     "metadata": {},
     "output_type": "execute_result"
    }
   ],
   "source": [
    "grid_search.best_params_"
   ]
  },
  {
   "cell_type": "code",
   "execution_count": 38,
   "metadata": {},
   "outputs": [
    {
     "data": {
      "text/plain": [
       "0.9046666666666667"
      ]
     },
     "execution_count": 38,
     "metadata": {},
     "output_type": "execute_result"
    }
   ],
   "source": [
    "grid_search.best_score_"
   ]
  },
  {
   "cell_type": "markdown",
   "metadata": {},
   "source": [
    "### 12. 위에서 구한 최적 파라미터를 rbf 모델에 적용하여 테스트 데이터에 대한 최종 예측을 출력하시오."
   ]
  },
  {
   "cell_type": "code",
   "execution_count": 39,
   "metadata": {},
   "outputs": [
    {
     "data": {
      "text/plain": [
       "SVC(C=5, gamma=0.1)"
      ]
     },
     "execution_count": 39,
     "metadata": {},
     "output_type": "execute_result"
    }
   ],
   "source": [
    "rbf_op = SVC(kernel='rbf', C=5, gamma=0.1)\n",
    "rbf_op.fit(X_train, y_train)"
   ]
  },
  {
   "cell_type": "code",
   "execution_count": 41,
   "metadata": {},
   "outputs": [
    {
     "name": "stdout",
     "output_type": "stream",
     "text": [
      "테스트 세트의 정확도: 0.886\n"
     ]
    }
   ],
   "source": [
    "from sklearn.metrics import accuracy_score\n",
    "\n",
    "pred = rbf_op.predict(X_test)\n",
    "accuracy = accuracy_score(y_test, pred)\n",
    "\n",
    "print(\"테스트 세트의 정확도:\", accuracy)"
   ]
  },
  {
   "cell_type": "markdown",
   "metadata": {},
   "source": [
    "# <autoparts 데이터 셋을 이용한 SVM 실습2>\n",
    "## 자동차 부품에 대한 데이터 특성을 기반으로 c_thickness값을 예측 하여 불량을 판단하는 회귀 실습입니다."
   ]
  },
  {
   "cell_type": "markdown",
   "metadata": {},
   "source": [
    "다음은 autoparts.csv 데이터에 대한 설명 입니다.<br>\n",
    "데이터에 대한 제공된 설명이 따로 없어, 데이터 예시를 표기하였습니다.\n",
    "\n",
    "- prod_date: 2014-05-01 오전 8:28:56\n",
    "- prod_no: 90784-76001 제품번호\n",
    "- prod_name: Oil Gasket\t 제품 이름\n",
    "- degree: \t2\n",
    "- mold: 생산대기\n",
    "- prod: 생산\n",
    "- s_no: 892890\n",
    "- fix_time:  85.5\t\n",
    "- a_speed: 0.611\n",
    "- b_speed: 1.715\t\n",
    "- separation: 242.0\t\n",
    "- s_separation: 657.6\t\n",
    "- rate_terms: 95\n",
    "- mpa: 78.2\t\n",
    "- load_time: 18.1\t\n",
    "- highpressure_time: 58\t\n",
    "- c_thickness: 24.7\n",
    "\n",
    "\n",
    "\n"
   ]
  },
  {
   "cell_type": "markdown",
   "metadata": {},
   "source": [
    "### 1. autoparts.csv 데이터 셋을 'autoparts' 이름으로 가져와서 처음 5개 행을 확인하시오.\n",
    "(hint: 데이터 설명을 보면 데이터에 한글이 포함되어 있다. 한글 인코딩을 진행해야한다.)"
   ]
  },
  {
   "cell_type": "code",
   "execution_count": 44,
   "metadata": {},
   "outputs": [
    {
     "data": {
      "text/html": [
       "<div>\n",
       "<style scoped>\n",
       "    .dataframe tbody tr th:only-of-type {\n",
       "        vertical-align: middle;\n",
       "    }\n",
       "\n",
       "    .dataframe tbody tr th {\n",
       "        vertical-align: top;\n",
       "    }\n",
       "\n",
       "    .dataframe thead th {\n",
       "        text-align: right;\n",
       "    }\n",
       "</style>\n",
       "<table border=\"1\" class=\"dataframe\">\n",
       "  <thead>\n",
       "    <tr style=\"text-align: right;\">\n",
       "      <th></th>\n",
       "      <th>prod_date</th>\n",
       "      <th>prod_no</th>\n",
       "      <th>prod_name</th>\n",
       "      <th>degree</th>\n",
       "      <th>mold</th>\n",
       "      <th>prod</th>\n",
       "      <th>s_no</th>\n",
       "      <th>fix_time</th>\n",
       "      <th>a_speed</th>\n",
       "      <th>b_speed</th>\n",
       "      <th>separation</th>\n",
       "      <th>s_separation</th>\n",
       "      <th>rate_terms</th>\n",
       "      <th>mpa</th>\n",
       "      <th>load_time</th>\n",
       "      <th>highpressure_time</th>\n",
       "      <th>c_thickness</th>\n",
       "    </tr>\n",
       "  </thead>\n",
       "  <tbody>\n",
       "    <tr>\n",
       "      <th>0</th>\n",
       "      <td>2014-05-01 오전 8:28:56</td>\n",
       "      <td>90784-76001</td>\n",
       "      <td>Oil Gasket</td>\n",
       "      <td>2</td>\n",
       "      <td>생산대기</td>\n",
       "      <td>생산</td>\n",
       "      <td>892890</td>\n",
       "      <td>85.5</td>\n",
       "      <td>0.611</td>\n",
       "      <td>1.715</td>\n",
       "      <td>242.0</td>\n",
       "      <td>657.6</td>\n",
       "      <td>95</td>\n",
       "      <td>78.2</td>\n",
       "      <td>18.1</td>\n",
       "      <td>58</td>\n",
       "      <td>24.7</td>\n",
       "    </tr>\n",
       "    <tr>\n",
       "      <th>1</th>\n",
       "      <td>2014-05-01 오전 8:27:29</td>\n",
       "      <td>90784-76001</td>\n",
       "      <td>Oil Gasket</td>\n",
       "      <td>2</td>\n",
       "      <td>생산대기</td>\n",
       "      <td>생산</td>\n",
       "      <td>892889</td>\n",
       "      <td>86.2</td>\n",
       "      <td>0.606</td>\n",
       "      <td>1.708</td>\n",
       "      <td>244.7</td>\n",
       "      <td>657.1</td>\n",
       "      <td>95</td>\n",
       "      <td>77.9</td>\n",
       "      <td>18.2</td>\n",
       "      <td>58</td>\n",
       "      <td>22.5</td>\n",
       "    </tr>\n",
       "    <tr>\n",
       "      <th>2</th>\n",
       "      <td>2014-05-01 오전 8:26:04</td>\n",
       "      <td>90784-76001</td>\n",
       "      <td>Oil Gasket</td>\n",
       "      <td>2</td>\n",
       "      <td>생산대기</td>\n",
       "      <td>생산</td>\n",
       "      <td>892888</td>\n",
       "      <td>86.0</td>\n",
       "      <td>0.609</td>\n",
       "      <td>1.715</td>\n",
       "      <td>242.7</td>\n",
       "      <td>657.5</td>\n",
       "      <td>95</td>\n",
       "      <td>78.0</td>\n",
       "      <td>18.1</td>\n",
       "      <td>82</td>\n",
       "      <td>24.1</td>\n",
       "    </tr>\n",
       "    <tr>\n",
       "      <th>3</th>\n",
       "      <td>2014-05-01 오전 8:24:37</td>\n",
       "      <td>90784-76001</td>\n",
       "      <td>Oil Gasket</td>\n",
       "      <td>2</td>\n",
       "      <td>생산대기</td>\n",
       "      <td>생산</td>\n",
       "      <td>892887</td>\n",
       "      <td>86.1</td>\n",
       "      <td>0.610</td>\n",
       "      <td>1.718</td>\n",
       "      <td>241.9</td>\n",
       "      <td>657.3</td>\n",
       "      <td>95</td>\n",
       "      <td>78.2</td>\n",
       "      <td>18.1</td>\n",
       "      <td>74</td>\n",
       "      <td>25.1</td>\n",
       "    </tr>\n",
       "    <tr>\n",
       "      <th>4</th>\n",
       "      <td>2014-05-01 오전 8:23:11</td>\n",
       "      <td>90784-76001</td>\n",
       "      <td>Oil Gasket</td>\n",
       "      <td>2</td>\n",
       "      <td>생산대기</td>\n",
       "      <td>생산</td>\n",
       "      <td>892886</td>\n",
       "      <td>86.1</td>\n",
       "      <td>0.603</td>\n",
       "      <td>1.704</td>\n",
       "      <td>242.5</td>\n",
       "      <td>657.3</td>\n",
       "      <td>95</td>\n",
       "      <td>77.9</td>\n",
       "      <td>18.2</td>\n",
       "      <td>56</td>\n",
       "      <td>24.5</td>\n",
       "    </tr>\n",
       "  </tbody>\n",
       "</table>\n",
       "</div>"
      ],
      "text/plain": [
       "               prod_date      prod_no   prod_name  degree  mold prod    s_no  \\\n",
       "0  2014-05-01 오전 8:28:56  90784-76001  Oil Gasket       2  생산대기   생산  892890   \n",
       "1  2014-05-01 오전 8:27:29  90784-76001  Oil Gasket       2  생산대기   생산  892889   \n",
       "2  2014-05-01 오전 8:26:04  90784-76001  Oil Gasket       2  생산대기   생산  892888   \n",
       "3  2014-05-01 오전 8:24:37  90784-76001  Oil Gasket       2  생산대기   생산  892887   \n",
       "4  2014-05-01 오전 8:23:11  90784-76001  Oil Gasket       2  생산대기   생산  892886   \n",
       "\n",
       "   fix_time  a_speed  b_speed  separation  s_separation  rate_terms   mpa  \\\n",
       "0      85.5    0.611    1.715       242.0         657.6          95  78.2   \n",
       "1      86.2    0.606    1.708       244.7         657.1          95  77.9   \n",
       "2      86.0    0.609    1.715       242.7         657.5          95  78.0   \n",
       "3      86.1    0.610    1.718       241.9         657.3          95  78.2   \n",
       "4      86.1    0.603    1.704       242.5         657.3          95  77.9   \n",
       "\n",
       "   load_time  highpressure_time  c_thickness  \n",
       "0       18.1                 58         24.7  \n",
       "1       18.2                 58         22.5  \n",
       "2       18.1                 82         24.1  \n",
       "3       18.1                 74         25.1  \n",
       "4       18.2                 56         24.5  "
      ]
     },
     "execution_count": 44,
     "metadata": {},
     "output_type": "execute_result"
    }
   ],
   "source": [
    "autoparts = pd.read_csv('autoparts.csv', encoding='CP949')\n",
    "autoparts.head()"
   ]
  },
  {
   "cell_type": "markdown",
   "metadata": {},
   "source": [
    "아래 코드는 데이터가 방대하여 저희가 1차적으로 전처리를 진행하였습니다. 실행해주시면 됩니다."
   ]
  },
  {
   "cell_type": "code",
   "execution_count": 58,
   "metadata": {
    "scrolled": false
   },
   "outputs": [
    {
     "data": {
      "text/html": [
       "<div>\n",
       "<style scoped>\n",
       "    .dataframe tbody tr th:only-of-type {\n",
       "        vertical-align: middle;\n",
       "    }\n",
       "\n",
       "    .dataframe tbody tr th {\n",
       "        vertical-align: top;\n",
       "    }\n",
       "\n",
       "    .dataframe thead th {\n",
       "        text-align: right;\n",
       "    }\n",
       "</style>\n",
       "<table border=\"1\" class=\"dataframe\">\n",
       "  <thead>\n",
       "    <tr style=\"text-align: right;\">\n",
       "      <th></th>\n",
       "      <th>fix_time</th>\n",
       "      <th>a_speed</th>\n",
       "      <th>b_speed</th>\n",
       "      <th>separation</th>\n",
       "      <th>s_separation</th>\n",
       "      <th>rate_terms</th>\n",
       "      <th>mpa</th>\n",
       "      <th>load_time</th>\n",
       "      <th>highpressure_time</th>\n",
       "      <th>c_thickness</th>\n",
       "      <th>y_faulty</th>\n",
       "    </tr>\n",
       "  </thead>\n",
       "  <tbody>\n",
       "    <tr>\n",
       "      <th>0</th>\n",
       "      <td>85.5</td>\n",
       "      <td>0.611</td>\n",
       "      <td>1.715</td>\n",
       "      <td>242.0</td>\n",
       "      <td>657.6</td>\n",
       "      <td>95</td>\n",
       "      <td>78.2</td>\n",
       "      <td>18.1</td>\n",
       "      <td>58</td>\n",
       "      <td>24.7</td>\n",
       "      <td>0</td>\n",
       "    </tr>\n",
       "    <tr>\n",
       "      <th>1</th>\n",
       "      <td>86.2</td>\n",
       "      <td>0.606</td>\n",
       "      <td>1.708</td>\n",
       "      <td>244.7</td>\n",
       "      <td>657.1</td>\n",
       "      <td>95</td>\n",
       "      <td>77.9</td>\n",
       "      <td>18.2</td>\n",
       "      <td>58</td>\n",
       "      <td>22.5</td>\n",
       "      <td>0</td>\n",
       "    </tr>\n",
       "    <tr>\n",
       "      <th>2</th>\n",
       "      <td>86.0</td>\n",
       "      <td>0.609</td>\n",
       "      <td>1.715</td>\n",
       "      <td>242.7</td>\n",
       "      <td>657.5</td>\n",
       "      <td>95</td>\n",
       "      <td>78.0</td>\n",
       "      <td>18.1</td>\n",
       "      <td>82</td>\n",
       "      <td>24.1</td>\n",
       "      <td>0</td>\n",
       "    </tr>\n",
       "    <tr>\n",
       "      <th>3</th>\n",
       "      <td>86.1</td>\n",
       "      <td>0.610</td>\n",
       "      <td>1.718</td>\n",
       "      <td>241.9</td>\n",
       "      <td>657.3</td>\n",
       "      <td>95</td>\n",
       "      <td>78.2</td>\n",
       "      <td>18.1</td>\n",
       "      <td>74</td>\n",
       "      <td>25.1</td>\n",
       "      <td>0</td>\n",
       "    </tr>\n",
       "    <tr>\n",
       "      <th>4</th>\n",
       "      <td>86.1</td>\n",
       "      <td>0.603</td>\n",
       "      <td>1.704</td>\n",
       "      <td>242.5</td>\n",
       "      <td>657.3</td>\n",
       "      <td>95</td>\n",
       "      <td>77.9</td>\n",
       "      <td>18.2</td>\n",
       "      <td>56</td>\n",
       "      <td>24.5</td>\n",
       "      <td>0</td>\n",
       "    </tr>\n",
       "    <tr>\n",
       "      <th>...</th>\n",
       "      <td>...</td>\n",
       "      <td>...</td>\n",
       "      <td>...</td>\n",
       "      <td>...</td>\n",
       "      <td>...</td>\n",
       "      <td>...</td>\n",
       "      <td>...</td>\n",
       "      <td>...</td>\n",
       "      <td>...</td>\n",
       "      <td>...</td>\n",
       "      <td>...</td>\n",
       "    </tr>\n",
       "    <tr>\n",
       "      <th>34134</th>\n",
       "      <td>82.7</td>\n",
       "      <td>0.594</td>\n",
       "      <td>1.578</td>\n",
       "      <td>219.7</td>\n",
       "      <td>684.1</td>\n",
       "      <td>85</td>\n",
       "      <td>75.9</td>\n",
       "      <td>20.2</td>\n",
       "      <td>68</td>\n",
       "      <td>19.9</td>\n",
       "      <td>1</td>\n",
       "    </tr>\n",
       "    <tr>\n",
       "      <th>34135</th>\n",
       "      <td>82.7</td>\n",
       "      <td>0.597</td>\n",
       "      <td>1.577</td>\n",
       "      <td>220.3</td>\n",
       "      <td>682.1</td>\n",
       "      <td>84</td>\n",
       "      <td>75.9</td>\n",
       "      <td>20.2</td>\n",
       "      <td>72</td>\n",
       "      <td>21.3</td>\n",
       "      <td>0</td>\n",
       "    </tr>\n",
       "    <tr>\n",
       "      <th>34136</th>\n",
       "      <td>82.5</td>\n",
       "      <td>0.591</td>\n",
       "      <td>1.581</td>\n",
       "      <td>219.8</td>\n",
       "      <td>684.1</td>\n",
       "      <td>85</td>\n",
       "      <td>75.9</td>\n",
       "      <td>20.2</td>\n",
       "      <td>72</td>\n",
       "      <td>19.8</td>\n",
       "      <td>1</td>\n",
       "    </tr>\n",
       "    <tr>\n",
       "      <th>34137</th>\n",
       "      <td>82.5</td>\n",
       "      <td>0.588</td>\n",
       "      <td>1.584</td>\n",
       "      <td>229.7</td>\n",
       "      <td>673.9</td>\n",
       "      <td>85</td>\n",
       "      <td>75.9</td>\n",
       "      <td>20.2</td>\n",
       "      <td>69</td>\n",
       "      <td>20.1</td>\n",
       "      <td>0</td>\n",
       "    </tr>\n",
       "    <tr>\n",
       "      <th>34138</th>\n",
       "      <td>82.5</td>\n",
       "      <td>0.597</td>\n",
       "      <td>1.576</td>\n",
       "      <td>218.5</td>\n",
       "      <td>684.1</td>\n",
       "      <td>85</td>\n",
       "      <td>75.9</td>\n",
       "      <td>20.2</td>\n",
       "      <td>69</td>\n",
       "      <td>21.1</td>\n",
       "      <td>0</td>\n",
       "    </tr>\n",
       "  </tbody>\n",
       "</table>\n",
       "<p>21767 rows × 11 columns</p>\n",
       "</div>"
      ],
      "text/plain": [
       "       fix_time  a_speed  b_speed  separation  s_separation  rate_terms   mpa  \\\n",
       "0          85.5    0.611    1.715       242.0         657.6          95  78.2   \n",
       "1          86.2    0.606    1.708       244.7         657.1          95  77.9   \n",
       "2          86.0    0.609    1.715       242.7         657.5          95  78.0   \n",
       "3          86.1    0.610    1.718       241.9         657.3          95  78.2   \n",
       "4          86.1    0.603    1.704       242.5         657.3          95  77.9   \n",
       "...         ...      ...      ...         ...           ...         ...   ...   \n",
       "34134      82.7    0.594    1.578       219.7         684.1          85  75.9   \n",
       "34135      82.7    0.597    1.577       220.3         682.1          84  75.9   \n",
       "34136      82.5    0.591    1.581       219.8         684.1          85  75.9   \n",
       "34137      82.5    0.588    1.584       229.7         673.9          85  75.9   \n",
       "34138      82.5    0.597    1.576       218.5         684.1          85  75.9   \n",
       "\n",
       "       load_time  highpressure_time  c_thickness  y_faulty  \n",
       "0           18.1                 58         24.7         0  \n",
       "1           18.2                 58         22.5         0  \n",
       "2           18.1                 82         24.1         0  \n",
       "3           18.1                 74         25.1         0  \n",
       "4           18.2                 56         24.5         0  \n",
       "...          ...                ...          ...       ...  \n",
       "34134       20.2                 68         19.9         1  \n",
       "34135       20.2                 72         21.3         0  \n",
       "34136       20.2                 72         19.8         1  \n",
       "34137       20.2                 69         20.1         0  \n",
       "34138       20.2                 69         21.1         0  \n",
       "\n",
       "[21767 rows x 11 columns]"
      ]
     },
     "execution_count": 58,
     "metadata": {},
     "output_type": "execute_result"
    }
   ],
   "source": [
    "autoparts1=autoparts[autoparts['prod_no']=='90784-76001'] #제품 번호가 90784-76001인 것만 다룸\n",
    "autoparts2=autoparts1[autoparts1['c_thickness']<1000] #c_thickness 종속변수 #큰 이상치 제외\n",
    "\n",
    "autoparts2=pd.DataFrame(autoparts2)\n",
    "autoparts2.drop(['prod_date','prod_no','prod_name','degree','mold','prod','s_no'], axis=1, inplace=True) #종속변수에 불필요한 clumun제거 \n",
    "\n",
    "autoparts2"
   ]
  },
  {
   "cell_type": "markdown",
   "metadata": {},
   "source": [
    "### 2. c_thickness가 20개 미만이거나 32개 초과인 데이터는 불량을 의미한다.<br>불량 여부를 판단하는 칼럼 'y_faulty'를 추가하고 불량이면 1, 정상이면 0으로 나타내시오."
   ]
  },
  {
   "cell_type": "code",
   "execution_count": 56,
   "metadata": {},
   "outputs": [],
   "source": [
    "autoparts2['y_faulty'] = autoparts2['c_thickness'].apply(lambda x: 1 if x<20 or x>32 else 0)"
   ]
  },
  {
   "cell_type": "code",
   "execution_count": 59,
   "metadata": {},
   "outputs": [
    {
     "data": {
      "text/html": [
       "<div>\n",
       "<style scoped>\n",
       "    .dataframe tbody tr th:only-of-type {\n",
       "        vertical-align: middle;\n",
       "    }\n",
       "\n",
       "    .dataframe tbody tr th {\n",
       "        vertical-align: top;\n",
       "    }\n",
       "\n",
       "    .dataframe thead th {\n",
       "        text-align: right;\n",
       "    }\n",
       "</style>\n",
       "<table border=\"1\" class=\"dataframe\">\n",
       "  <thead>\n",
       "    <tr style=\"text-align: right;\">\n",
       "      <th></th>\n",
       "      <th>fix_time</th>\n",
       "      <th>a_speed</th>\n",
       "      <th>b_speed</th>\n",
       "      <th>separation</th>\n",
       "      <th>s_separation</th>\n",
       "      <th>rate_terms</th>\n",
       "      <th>mpa</th>\n",
       "      <th>load_time</th>\n",
       "      <th>highpressure_time</th>\n",
       "      <th>c_thickness</th>\n",
       "      <th>y_faulty</th>\n",
       "    </tr>\n",
       "  </thead>\n",
       "  <tbody>\n",
       "    <tr>\n",
       "      <th>0</th>\n",
       "      <td>85.5</td>\n",
       "      <td>0.611</td>\n",
       "      <td>1.715</td>\n",
       "      <td>242.0</td>\n",
       "      <td>657.6</td>\n",
       "      <td>95</td>\n",
       "      <td>78.2</td>\n",
       "      <td>18.1</td>\n",
       "      <td>58</td>\n",
       "      <td>24.7</td>\n",
       "      <td>0</td>\n",
       "    </tr>\n",
       "    <tr>\n",
       "      <th>1</th>\n",
       "      <td>86.2</td>\n",
       "      <td>0.606</td>\n",
       "      <td>1.708</td>\n",
       "      <td>244.7</td>\n",
       "      <td>657.1</td>\n",
       "      <td>95</td>\n",
       "      <td>77.9</td>\n",
       "      <td>18.2</td>\n",
       "      <td>58</td>\n",
       "      <td>22.5</td>\n",
       "      <td>0</td>\n",
       "    </tr>\n",
       "    <tr>\n",
       "      <th>2</th>\n",
       "      <td>86.0</td>\n",
       "      <td>0.609</td>\n",
       "      <td>1.715</td>\n",
       "      <td>242.7</td>\n",
       "      <td>657.5</td>\n",
       "      <td>95</td>\n",
       "      <td>78.0</td>\n",
       "      <td>18.1</td>\n",
       "      <td>82</td>\n",
       "      <td>24.1</td>\n",
       "      <td>0</td>\n",
       "    </tr>\n",
       "    <tr>\n",
       "      <th>3</th>\n",
       "      <td>86.1</td>\n",
       "      <td>0.610</td>\n",
       "      <td>1.718</td>\n",
       "      <td>241.9</td>\n",
       "      <td>657.3</td>\n",
       "      <td>95</td>\n",
       "      <td>78.2</td>\n",
       "      <td>18.1</td>\n",
       "      <td>74</td>\n",
       "      <td>25.1</td>\n",
       "      <td>0</td>\n",
       "    </tr>\n",
       "    <tr>\n",
       "      <th>4</th>\n",
       "      <td>86.1</td>\n",
       "      <td>0.603</td>\n",
       "      <td>1.704</td>\n",
       "      <td>242.5</td>\n",
       "      <td>657.3</td>\n",
       "      <td>95</td>\n",
       "      <td>77.9</td>\n",
       "      <td>18.2</td>\n",
       "      <td>56</td>\n",
       "      <td>24.5</td>\n",
       "      <td>0</td>\n",
       "    </tr>\n",
       "    <tr>\n",
       "      <th>5</th>\n",
       "      <td>86.3</td>\n",
       "      <td>0.606</td>\n",
       "      <td>1.707</td>\n",
       "      <td>244.5</td>\n",
       "      <td>656.9</td>\n",
       "      <td>95</td>\n",
       "      <td>77.9</td>\n",
       "      <td>18.0</td>\n",
       "      <td>78</td>\n",
       "      <td>22.9</td>\n",
       "      <td>0</td>\n",
       "    </tr>\n",
       "    <tr>\n",
       "      <th>6</th>\n",
       "      <td>86.5</td>\n",
       "      <td>0.606</td>\n",
       "      <td>1.701</td>\n",
       "      <td>243.1</td>\n",
       "      <td>656.9</td>\n",
       "      <td>95</td>\n",
       "      <td>78.2</td>\n",
       "      <td>18.1</td>\n",
       "      <td>55</td>\n",
       "      <td>24.3</td>\n",
       "      <td>0</td>\n",
       "    </tr>\n",
       "    <tr>\n",
       "      <th>7</th>\n",
       "      <td>86.4</td>\n",
       "      <td>0.607</td>\n",
       "      <td>1.707</td>\n",
       "      <td>243.1</td>\n",
       "      <td>657.3</td>\n",
       "      <td>95</td>\n",
       "      <td>77.5</td>\n",
       "      <td>18.1</td>\n",
       "      <td>57</td>\n",
       "      <td>23.9</td>\n",
       "      <td>0</td>\n",
       "    </tr>\n",
       "    <tr>\n",
       "      <th>8</th>\n",
       "      <td>86.3</td>\n",
       "      <td>0.604</td>\n",
       "      <td>1.711</td>\n",
       "      <td>245.2</td>\n",
       "      <td>656.9</td>\n",
       "      <td>95</td>\n",
       "      <td>77.8</td>\n",
       "      <td>18.0</td>\n",
       "      <td>50</td>\n",
       "      <td>22.2</td>\n",
       "      <td>0</td>\n",
       "    </tr>\n",
       "    <tr>\n",
       "      <th>9</th>\n",
       "      <td>86.0</td>\n",
       "      <td>0.608</td>\n",
       "      <td>1.696</td>\n",
       "      <td>248.0</td>\n",
       "      <td>657.3</td>\n",
       "      <td>95</td>\n",
       "      <td>77.5</td>\n",
       "      <td>18.1</td>\n",
       "      <td>60</td>\n",
       "      <td>19.0</td>\n",
       "      <td>1</td>\n",
       "    </tr>\n",
       "  </tbody>\n",
       "</table>\n",
       "</div>"
      ],
      "text/plain": [
       "   fix_time  a_speed  b_speed  separation  s_separation  rate_terms   mpa  \\\n",
       "0      85.5    0.611    1.715       242.0         657.6          95  78.2   \n",
       "1      86.2    0.606    1.708       244.7         657.1          95  77.9   \n",
       "2      86.0    0.609    1.715       242.7         657.5          95  78.0   \n",
       "3      86.1    0.610    1.718       241.9         657.3          95  78.2   \n",
       "4      86.1    0.603    1.704       242.5         657.3          95  77.9   \n",
       "5      86.3    0.606    1.707       244.5         656.9          95  77.9   \n",
       "6      86.5    0.606    1.701       243.1         656.9          95  78.2   \n",
       "7      86.4    0.607    1.707       243.1         657.3          95  77.5   \n",
       "8      86.3    0.604    1.711       245.2         656.9          95  77.8   \n",
       "9      86.0    0.608    1.696       248.0         657.3          95  77.5   \n",
       "\n",
       "   load_time  highpressure_time  c_thickness  y_faulty  \n",
       "0       18.1                 58         24.7         0  \n",
       "1       18.2                 58         22.5         0  \n",
       "2       18.1                 82         24.1         0  \n",
       "3       18.1                 74         25.1         0  \n",
       "4       18.2                 56         24.5         0  \n",
       "5       18.0                 78         22.9         0  \n",
       "6       18.1                 55         24.3         0  \n",
       "7       18.1                 57         23.9         0  \n",
       "8       18.0                 50         22.2         0  \n",
       "9       18.1                 60         19.0         1  "
      ]
     },
     "execution_count": 59,
     "metadata": {},
     "output_type": "execute_result"
    }
   ],
   "source": [
    "autoparts2.head(10)"
   ]
  },
  {
   "cell_type": "code",
   "execution_count": 60,
   "metadata": {},
   "outputs": [
    {
     "data": {
      "text/html": [
       "<div>\n",
       "<style scoped>\n",
       "    .dataframe tbody tr th:only-of-type {\n",
       "        vertical-align: middle;\n",
       "    }\n",
       "\n",
       "    .dataframe tbody tr th {\n",
       "        vertical-align: top;\n",
       "    }\n",
       "\n",
       "    .dataframe thead th {\n",
       "        text-align: right;\n",
       "    }\n",
       "</style>\n",
       "<table border=\"1\" class=\"dataframe\">\n",
       "  <thead>\n",
       "    <tr style=\"text-align: right;\">\n",
       "      <th></th>\n",
       "      <th>fix_time</th>\n",
       "      <th>a_speed</th>\n",
       "      <th>b_speed</th>\n",
       "      <th>separation</th>\n",
       "      <th>s_separation</th>\n",
       "      <th>rate_terms</th>\n",
       "      <th>mpa</th>\n",
       "      <th>load_time</th>\n",
       "      <th>highpressure_time</th>\n",
       "      <th>c_thickness</th>\n",
       "      <th>y_faulty</th>\n",
       "    </tr>\n",
       "  </thead>\n",
       "  <tbody>\n",
       "    <tr>\n",
       "      <th>34134</th>\n",
       "      <td>82.7</td>\n",
       "      <td>0.594</td>\n",
       "      <td>1.578</td>\n",
       "      <td>219.7</td>\n",
       "      <td>684.1</td>\n",
       "      <td>85</td>\n",
       "      <td>75.9</td>\n",
       "      <td>20.2</td>\n",
       "      <td>68</td>\n",
       "      <td>19.9</td>\n",
       "      <td>1</td>\n",
       "    </tr>\n",
       "    <tr>\n",
       "      <th>34135</th>\n",
       "      <td>82.7</td>\n",
       "      <td>0.597</td>\n",
       "      <td>1.577</td>\n",
       "      <td>220.3</td>\n",
       "      <td>682.1</td>\n",
       "      <td>84</td>\n",
       "      <td>75.9</td>\n",
       "      <td>20.2</td>\n",
       "      <td>72</td>\n",
       "      <td>21.3</td>\n",
       "      <td>0</td>\n",
       "    </tr>\n",
       "    <tr>\n",
       "      <th>34136</th>\n",
       "      <td>82.5</td>\n",
       "      <td>0.591</td>\n",
       "      <td>1.581</td>\n",
       "      <td>219.8</td>\n",
       "      <td>684.1</td>\n",
       "      <td>85</td>\n",
       "      <td>75.9</td>\n",
       "      <td>20.2</td>\n",
       "      <td>72</td>\n",
       "      <td>19.8</td>\n",
       "      <td>1</td>\n",
       "    </tr>\n",
       "    <tr>\n",
       "      <th>34137</th>\n",
       "      <td>82.5</td>\n",
       "      <td>0.588</td>\n",
       "      <td>1.584</td>\n",
       "      <td>229.7</td>\n",
       "      <td>673.9</td>\n",
       "      <td>85</td>\n",
       "      <td>75.9</td>\n",
       "      <td>20.2</td>\n",
       "      <td>69</td>\n",
       "      <td>20.1</td>\n",
       "      <td>0</td>\n",
       "    </tr>\n",
       "    <tr>\n",
       "      <th>34138</th>\n",
       "      <td>82.5</td>\n",
       "      <td>0.597</td>\n",
       "      <td>1.576</td>\n",
       "      <td>218.5</td>\n",
       "      <td>684.1</td>\n",
       "      <td>85</td>\n",
       "      <td>75.9</td>\n",
       "      <td>20.2</td>\n",
       "      <td>69</td>\n",
       "      <td>21.1</td>\n",
       "      <td>0</td>\n",
       "    </tr>\n",
       "  </tbody>\n",
       "</table>\n",
       "</div>"
      ],
      "text/plain": [
       "       fix_time  a_speed  b_speed  separation  s_separation  rate_terms   mpa  \\\n",
       "34134      82.7    0.594    1.578       219.7         684.1          85  75.9   \n",
       "34135      82.7    0.597    1.577       220.3         682.1          84  75.9   \n",
       "34136      82.5    0.591    1.581       219.8         684.1          85  75.9   \n",
       "34137      82.5    0.588    1.584       229.7         673.9          85  75.9   \n",
       "34138      82.5    0.597    1.576       218.5         684.1          85  75.9   \n",
       "\n",
       "       load_time  highpressure_time  c_thickness  y_faulty  \n",
       "34134       20.2                 68         19.9         1  \n",
       "34135       20.2                 72         21.3         0  \n",
       "34136       20.2                 72         19.8         1  \n",
       "34137       20.2                 69         20.1         0  \n",
       "34138       20.2                 69         21.1         0  "
      ]
     },
     "execution_count": 60,
     "metadata": {},
     "output_type": "execute_result"
    }
   ],
   "source": [
    "autoparts2.tail()"
   ]
  },
  {
   "cell_type": "markdown",
   "metadata": {},
   "source": [
    "### 3. X_fearues와 y_target이라는 이름으로 독립변수와 종속변수를 분리하시오. (종속변수 = c_thickness)"
   ]
  },
  {
   "cell_type": "code",
   "execution_count": 62,
   "metadata": {},
   "outputs": [],
   "source": [
    "y_target = autoparts2['c_thickness']\n",
    "X_features = autoparts2.drop(['c_thickness'], axis=1)"
   ]
  },
  {
   "cell_type": "markdown",
   "metadata": {},
   "source": [
    "### 4. 사이킷런에서 train_test_split을 이용해 훈련세트와 테스트 세트를 분리하시오.<br>\n",
    "X_train,X_test,y_train,y_test 이란 이름으로 세트를 만들고 test_size=0.3,random_state=42 이라는 옵션 추가하세요."
   ]
  },
  {
   "cell_type": "code",
   "execution_count": 63,
   "metadata": {},
   "outputs": [],
   "source": [
    "X_train, X_test, y_train, y_test = train_test_split(X_features, y_target, test_size=0.3, random_state=42)"
   ]
  },
  {
   "cell_type": "markdown",
   "metadata": {},
   "source": [
    "### 5. 사이킷런의 LinearSVR 모델을 불러온 후 아래 params로 GridSearchCV를 진행하여 최적의 파라미터를 찾으세요.<br>\n",
    "\n",
    "```python\n",
    "'epsilon': [0.1, 1, 2, 10, 100], 'C': [1,5,10,40,100]     \n",
    "cv=5\n",
    "```"
   ]
  },
  {
   "cell_type": "code",
   "execution_count": 65,
   "metadata": {},
   "outputs": [
    {
     "data": {
      "text/plain": [
       "GridSearchCV(cv=5, estimator=LinearSVR(epsilon=1.5),\n",
       "             param_grid={'C': [1, 5, 10, 40, 100],\n",
       "                         'epsilon': [0.1, 1, 2, 10, 100]})"
      ]
     },
     "execution_count": 65,
     "metadata": {},
     "output_type": "execute_result"
    }
   ],
   "source": [
    "from sklearn.svm import LinearSVR\n",
    "import warnings\n",
    "warnings.filterwarnings('ignore')\n",
    "\n",
    "svm_reg = LinearSVR(epsilon=1.5)\n",
    "\n",
    "params = {\n",
    "    'epsilon': [0.1, 1, 2, 10, 100], \n",
    "    'C': [1,5,10,40,100]\n",
    "}\n",
    "\n",
    "grid_search1 = GridSearchCV(svm_reg, params, cv=5)\n",
    "grid_search1.fit(X_train, y_train)"
   ]
  },
  {
   "cell_type": "code",
   "execution_count": 66,
   "metadata": {},
   "outputs": [
    {
     "data": {
      "text/plain": [
       "{'C': 5, 'epsilon': 1}"
      ]
     },
     "execution_count": 66,
     "metadata": {},
     "output_type": "execute_result"
    }
   ],
   "source": [
    "grid_search1.best_params_"
   ]
  },
  {
   "cell_type": "markdown",
   "metadata": {},
   "source": [
    "위에서 찾은 최적 파라미터를 LinearSVR모델에 적용해 fit한 후 X_test를 예측하여 prediction란 이름에 저장하시오.  \n",
    "그리고 이 모델의 RMSE를 출력하시오"
   ]
  },
  {
   "cell_type": "code",
   "execution_count": 67,
   "metadata": {},
   "outputs": [
    {
     "data": {
      "text/plain": [
       "LinearSVR(C=5, epsilon=1)"
      ]
     },
     "execution_count": 67,
     "metadata": {},
     "output_type": "execute_result"
    }
   ],
   "source": [
    "svm_reg_op = LinearSVR(epsilon=1, C=5)\n",
    "svm_reg_op.fit(X_train, y_train)"
   ]
  },
  {
   "cell_type": "code",
   "execution_count": 69,
   "metadata": {},
   "outputs": [
    {
     "name": "stdout",
     "output_type": "stream",
     "text": [
      "RMSE:  7.811318064462493\n"
     ]
    }
   ],
   "source": [
    "from sklearn.metrics import mean_squared_error\n",
    "\n",
    "prediction = svm_reg_op.predict(X_test)\n",
    "\n",
    "rmse = np.sqrt(mean_squared_error(y_test, prediction))\n",
    "print('RMSE: ', rmse)"
   ]
  },
  {
   "cell_type": "markdown",
   "metadata": {},
   "source": [
    "y_test와 prediction의 관계를 그래프로 나타내시오. 또한 x축과 y축에 label을 표현하시오.<br>\n",
    "또한  y=x 그래프를 그리고 실제와 예측 간 오차를 확인하시오."
   ]
  },
  {
   "cell_type": "code",
   "execution_count": 90,
   "metadata": {},
   "outputs": [
    {
     "data": {
      "text/plain": [
       "[<matplotlib.lines.Line2D at 0x2b7c381d070>]"
      ]
     },
     "execution_count": 90,
     "metadata": {},
     "output_type": "execute_result"
    },
    {
     "data": {
      "image/png": "[encoded data removed]",
      "text/plain": [
       "<Figure size 432x288 with 1 Axes>"
      ]
     },
     "metadata": {
      "needs_background": "light"
     },
     "output_type": "display_data"
    }
   ],
   "source": [
    "plt.scatter(y_test, prediction, alpha = 0.5)\n",
    "plt.xlabel('y_test')\n",
    "plt.ylabel('prediction')\n",
    "plt.xlim(0, 50)\n",
    "plt.ylim(0, 50)\n",
    "\n",
    "x = [0, 50]\n",
    "y = x\n",
    "\n",
    "plt.plot(x, y)"
   ]
  },
  {
   "cell_type": "markdown",
   "metadata": {},
   "source": [
    "### 6. 사이킷런의SVR 모델을 불러온 후 아래 params로 예측을 진행하시오.\n",
    "- kernel: rbf\n",
    "- C: 50\n",
    "- epsilon: 0.1\n",
    "\n",
    "SVR모델에 적용해 fit한 후 X_test를 예측하여 y_predict란 이름에 저장하시오.\n",
    "그리고 이 모델의 RMSE를 출력하시오."
   ]
  },
  {
   "cell_type": "code",
   "execution_count": 166,
   "metadata": {},
   "outputs": [
    {
     "name": "stdout",
     "output_type": "stream",
     "text": [
      "RMSE:  2.5524505747203117\n"
     ]
    }
   ],
   "source": [
    "from sklearn.svm import SVR\n",
    "\n",
    "svr = SVR(kernel = 'rbf', C=50, epsilon=0.1)\n",
    "svr.fit(X_test, y_test)\n",
    "\n",
    "y_predict = svr.predict(X_test)\n",
    "rmse2 = np.sqrt(mean_squared_error(y_test, y_predict))\n",
    "print('RMSE: ', rmse2)"
   ]
  },
  {
   "cell_type": "markdown",
   "metadata": {},
   "source": [
    "y_test와 y_predict의 관계를 그래프로 나타내시오."
   ]
  },
  {
   "cell_type": "code",
   "execution_count": 92,
   "metadata": {
    "scrolled": true
   },
   "outputs": [
    {
     "data": {
      "text/plain": [
       "[<matplotlib.lines.Line2D at 0x2b7c3981b20>]"
      ]
     },
     "execution_count": 92,
     "metadata": {},
     "output_type": "execute_result"
    },
    {
     "data": {
      "image/png": "[encoded data removed]",
      "text/plain": [
       "<Figure size 432x288 with 1 Axes>"
      ]
     },
     "metadata": {
      "needs_background": "light"
     },
     "output_type": "display_data"
    }
   ],
   "source": [
    "plt.scatter(y_test, y_predict, alpha = 0.5)\n",
    "plt.xlabel('y_test')\n",
    "plt.ylabel('y_predict')\n",
    "plt.xlim(0, 50)\n",
    "plt.ylim(0, 50)\n",
    "\n",
    "x = [0, 50]\n",
    "y = x\n",
    "\n",
    "plt.plot(x, y)"
   ]
  },
  {
   "cell_type": "markdown",
   "metadata": {},
   "source": [
    "y_predict가 20 미만이거나 32 초과인 데이터는 1, 아니면 0으로 분류하시오.\n",
    "그리고 X_test 데이터 셋에 y_faulty_predict 칼럼으로 추가하시오."
   ]
  },
  {
   "cell_type": "code",
   "execution_count": 154,
   "metadata": {
    "scrolled": true
   },
   "outputs": [
    {
     "data": {
      "text/plain": [
       "array([0, 1], dtype=int64)"
      ]
     },
     "execution_count": 154,
     "metadata": {},
     "output_type": "execute_result"
    }
   ],
   "source": [
    "# y_predict1 = pd.Series(y_predict)\n",
    "# y_predict1 = y_predict1.apply(lambda x: 1 if x<20 or x>32 else 0)\n",
    "\n",
    "# y_predict1.unique()"
   ]
  },
  {
   "cell_type": "code",
   "execution_count": 165,
   "metadata": {},
   "outputs": [
    {
     "data": {
      "text/html": [
       "<div>\n",
       "<style scoped>\n",
       "    .dataframe tbody tr th:only-of-type {\n",
       "        vertical-align: middle;\n",
       "    }\n",
       "\n",
       "    .dataframe tbody tr th {\n",
       "        vertical-align: top;\n",
       "    }\n",
       "\n",
       "    .dataframe thead th {\n",
       "        text-align: right;\n",
       "    }\n",
       "</style>\n",
       "<table border=\"1\" class=\"dataframe\">\n",
       "  <thead>\n",
       "    <tr style=\"text-align: right;\">\n",
       "      <th></th>\n",
       "      <th>fix_time</th>\n",
       "      <th>a_speed</th>\n",
       "      <th>b_speed</th>\n",
       "      <th>separation</th>\n",
       "      <th>s_separation</th>\n",
       "      <th>rate_terms</th>\n",
       "      <th>mpa</th>\n",
       "      <th>load_time</th>\n",
       "      <th>highpressure_time</th>\n",
       "      <th>y_faulty</th>\n",
       "      <th>y_faulty_predict</th>\n",
       "    </tr>\n",
       "  </thead>\n",
       "  <tbody>\n",
       "    <tr>\n",
       "      <th>6282</th>\n",
       "      <td>85.3</td>\n",
       "      <td>0.597</td>\n",
       "      <td>1.549</td>\n",
       "      <td>250.3</td>\n",
       "      <td>651.3</td>\n",
       "      <td>81</td>\n",
       "      <td>78.4</td>\n",
       "      <td>18.1</td>\n",
       "      <td>58</td>\n",
       "      <td>0</td>\n",
       "      <td>0</td>\n",
       "    </tr>\n",
       "    <tr>\n",
       "      <th>6009</th>\n",
       "      <td>85.3</td>\n",
       "      <td>0.597</td>\n",
       "      <td>1.579</td>\n",
       "      <td>250.4</td>\n",
       "      <td>651.3</td>\n",
       "      <td>81</td>\n",
       "      <td>78.1</td>\n",
       "      <td>18.2</td>\n",
       "      <td>61</td>\n",
       "      <td>0</td>\n",
       "      <td>0</td>\n",
       "    </tr>\n",
       "    <tr>\n",
       "      <th>22865</th>\n",
       "      <td>80.9</td>\n",
       "      <td>0.658</td>\n",
       "      <td>1.724</td>\n",
       "      <td>185.6</td>\n",
       "      <td>711.3</td>\n",
       "      <td>86</td>\n",
       "      <td>76.9</td>\n",
       "      <td>19.2</td>\n",
       "      <td>73</td>\n",
       "      <td>0</td>\n",
       "      <td>0</td>\n",
       "    </tr>\n",
       "    <tr>\n",
       "      <th>7658</th>\n",
       "      <td>86.0</td>\n",
       "      <td>0.603</td>\n",
       "      <td>1.657</td>\n",
       "      <td>253.6</td>\n",
       "      <td>651.5</td>\n",
       "      <td>80</td>\n",
       "      <td>77.4</td>\n",
       "      <td>18.2</td>\n",
       "      <td>64</td>\n",
       "      <td>1</td>\n",
       "      <td>0</td>\n",
       "    </tr>\n",
       "    <tr>\n",
       "      <th>14365</th>\n",
       "      <td>80.6</td>\n",
       "      <td>0.656</td>\n",
       "      <td>1.480</td>\n",
       "      <td>185.7</td>\n",
       "      <td>717.1</td>\n",
       "      <td>87</td>\n",
       "      <td>74.0</td>\n",
       "      <td>19.2</td>\n",
       "      <td>78</td>\n",
       "      <td>0</td>\n",
       "      <td>0</td>\n",
       "    </tr>\n",
       "  </tbody>\n",
       "</table>\n",
       "</div>"
      ],
      "text/plain": [
       "       fix_time  a_speed  b_speed  separation  s_separation  rate_terms   mpa  \\\n",
       "6282       85.3    0.597    1.549       250.3         651.3          81  78.4   \n",
       "6009       85.3    0.597    1.579       250.4         651.3          81  78.1   \n",
       "22865      80.9    0.658    1.724       185.6         711.3          86  76.9   \n",
       "7658       86.0    0.603    1.657       253.6         651.5          80  77.4   \n",
       "14365      80.6    0.656    1.480       185.7         717.1          87  74.0   \n",
       "\n",
       "       load_time  highpressure_time  y_faulty  y_faulty_predict  \n",
       "6282        18.1                 58         0                 0  \n",
       "6009        18.2                 61         0                 0  \n",
       "22865       19.2                 73         0                 0  \n",
       "7658        18.2                 64         1                 0  \n",
       "14365       19.2                 78         0                 0  "
      ]
     },
     "execution_count": 165,
     "metadata": {},
     "output_type": "execute_result"
    }
   ],
   "source": [
    "X_test['y_faulty_predict'] = [1 if y<20 or y>32 else 0 for y in y_predict]\n",
    "# X_test['y_faulty_predict'] = y_predict1\n",
    "X_test.head()"
   ]
  },
  {
   "cell_type": "markdown",
   "metadata": {},
   "source": [
    "### 7. 5- 6번 실습을 기반으로 LinearSVR과 SVR 모델을 비교하여 간단히 서술하시오."
   ]
  },
  {
   "cell_type": "markdown",
   "metadata": {},
   "source": [
    "답 : rmse값이 linear SVR은 7, SVR은 2로 SVR 모델이 데이터에 더 성능이 좋다는 것을 알 수 있다. 선형 SVR은 plot으로 확인하였을 때 데이터가 유의미한 선형 관계를 보이지 않는단 것을 근거로 들 수 있다."
   ]
  },
  {
   "cell_type": "markdown",
   "metadata": {},
   "source": [
    "### 뽀너스: Decision boundary 예제\n",
    "출처:  https://jeongmin-lee.tistory.com/87 "
   ]
  },
  {
   "cell_type": "code",
   "execution_count": 31,
   "metadata": {},
   "outputs": [],
   "source": [
    "# mglearn 이 없다는 경고문이 발생할 시 아래 코드를 실행해주세요.\n",
    "# pip install mglearn"
   ]
  },
  {
   "cell_type": "code",
   "execution_count": 30,
   "metadata": {},
   "outputs": [
    {
     "name": "stdout",
     "output_type": "stream",
     "text": [
      "학습용 데이터로 측정한 정확도 = 0.81\n",
      "시험용 데이터로 측정한 정확도 = 0.77\n"
     ]
    },
    {
     "data": {
      "image/png": "[encoded data removed]",
      "text/plain": [
       "<Figure size 576x360 with 1 Axes>"
      ]
     },
     "metadata": {},
     "output_type": "display_data"
    }
   ],
   "source": [
    "import matplotlib.pyplot as plt\n",
    "from sklearn.datasets import load_iris\n",
    "from sklearn.model_selection import train_test_split\n",
    "from sklearn.svm import SVC\n",
    "import mglearn\n",
    "%matplotlib inline\n",
    "\n",
    "iris = load_iris()\n",
    "\n",
    "# 시각화를 위해서 sepal length와 width만 사용한다.\n",
    "x = iris['data'][:, [0,1]] # column 0과 1만 사용\n",
    "y = iris['target']\n",
    "\n",
    "# train 데이터 세트와 test 데이터 세트를 구성한다.\n",
    "trainX, testX, trainY, testY = \\\n",
    "    train_test_split(x, y, test_size=0.2)\n",
    "\n",
    "# SVM으로 Train 데이터 세트를 학습한다.\n",
    "svm = SVC(kernel='linear')\n",
    "svm.fit(trainX, trainY)\n",
    "\n",
    "# 정확도를 계산한다.\n",
    "print('학습용 데이터로 측정한 정확도 = %.2f' % svm.score(trainX, trainY))\n",
    "print('시험용 데이터로 측정한 정확도 = %.2f' % svm.score(testX, testY))\n",
    "\n",
    "# 시각화\n",
    "plt.figure(figsize=(8, 5))\n",
    "mglearn.plots.plot_2d_classification(svm, trainX, alpha=0.1)\n",
    "mglearn.discrete_scatter(trainX[:,0], trainX[:,1], trainY)\n",
    "plt.legend()\n",
    "plt.xlabel('sepal length')\n",
    "plt.ylabel('sepal width')\n",
    "plt.show()"
   ]
  },
  {
   "cell_type": "code",
   "execution_count": null,
   "metadata": {},
   "outputs": [],
   "source": []
  }
 ],
 "metadata": {
  "kernelspec": {
   "display_name": "Python 3",
   "language": "python",
   "name": "python3"
  },
  "language_info": {
   "codemirror_mode": {
    "name": "ipython",
    "version": 3
   },
   "file_extension": ".py",
   "mimetype": "text/x-python",
   "name": "python",
   "nbconvert_exporter": "python",
   "pygments_lexer": "ipython3",
   "version": "3.8.3"
  }
 },
 "nbformat": 4,
 "nbformat_minor": 4
}
