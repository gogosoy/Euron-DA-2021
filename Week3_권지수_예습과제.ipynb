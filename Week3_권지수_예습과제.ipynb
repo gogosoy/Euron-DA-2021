{
 "cells": [
  {
   "cell_type": "markdown",
   "metadata": {},
   "source": [
    "# 4. 모델 훈련\n",
    "\n",
    "## 4.1 선형 회귀\n",
    "<img src='https://miro.medium.com/max/1920/1*GSAcN9G7stUJQbuOhu0HEg.png' width=50%>\n",
    "\n",
    "선형 회귀를 훈련시키는 방법\n",
    "- 직접 공식을 사용하여 파라미터 구하기\n",
    "- 경사하강법(GD)을 사용하여 반복적인 최적화 방식으로 파라미터를 조금씩 바꾸면서 비용 최소화"
   ]
  },
  {
   "cell_type": "markdown",
   "metadata": {},
   "source": [
    "### 4.1.1 정규방정식\n",
    "공식을 테스트하기 위해 선형처럼 보이는 데이터 생성"
   ]
  },
  {
   "cell_type": "code",
   "execution_count": 1,
   "metadata": {},
   "outputs": [],
   "source": [
    "import numpy as np\n",
    "\n",
    "X = 2 * np.random.rand(100,1)\n",
    "y = 4 + 3 * X + np.random.randn(100, 1)"
   ]
  },
  {
   "cell_type": "markdown",
   "metadata": {},
   "source": [
    "`np.linalg` 넘파이 선형대수 모듈  \n",
    "`inv()` 역행렬  \n",
    "`dot()` 행렬곱"
   ]
  },
  {
   "cell_type": "code",
   "execution_count": 2,
   "metadata": {},
   "outputs": [
    {
     "data": {
      "text/plain": [
       "array([[3.83135638],\n",
       "       [3.03817169]])"
      ]
     },
     "execution_count": 2,
     "metadata": {},
     "output_type": "execute_result"
    }
   ],
   "source": [
    "X_b = np.c_[np.ones((100, 1)), X]\n",
    "theta_best = np.linalg.inv(X_b.T.dot(X_b)).dot(X_b.T).dot(y)\n",
    "\n",
    "#정규방정식으로 계산한 값 확인\n",
    "theta_best"
   ]
  },
  {
   "cell_type": "code",
   "execution_count": 3,
   "metadata": {},
   "outputs": [
    {
     "data": {
      "text/plain": [
       "array([[3.83135638],\n",
       "       [9.90769976]])"
      ]
     },
     "execution_count": 3,
     "metadata": {},
     "output_type": "execute_result"
    }
   ],
   "source": [
    "# 예측\n",
    "X_new = np.array([[0],[2]])\n",
    "X_new_b = np.c_[np.ones((2, 1)), X_new] #모든 샘플에 x0 = 1 추가\n",
    "\n",
    "y_predict = X_new_b.dot(theta_best)\n",
    "y_predict"
   ]
  },
  {
   "cell_type": "code",
   "execution_count": 4,
   "metadata": {},
   "outputs": [
    {
     "data": {
      "image/png": "[encoded data removed]",
      "text/plain": [
       "<Figure size 432x288 with 1 Axes>"
      ]
     },
     "metadata": {
      "needs_background": "light"
     },
     "output_type": "display_data"
    }
   ],
   "source": [
    "import matplotlib as mpl\n",
    "import matplotlib.pyplot as plt\n",
    "\n",
    "plt.plot(X_new, y_predict, 'r-')\n",
    "plt.plot(X, y, 'b.')\n",
    "plt.axis([0, 2, 0, 15])\n",
    "plt.show()"
   ]
  },
  {
   "cell_type": "markdown",
   "metadata": {},
   "source": [
    "### 사이킷런에서의 선형 회귀 수행\n",
    "`intercept` 절편  \n",
    "`coef` 회귀계수"
   ]
  },
  {
   "cell_type": "code",
   "execution_count": 5,
   "metadata": {},
   "outputs": [
    {
     "data": {
      "text/plain": [
       "(array([3.83135638]), array([[3.03817169]]))"
      ]
     },
     "execution_count": 5,
     "metadata": {},
     "output_type": "execute_result"
    }
   ],
   "source": [
    "from sklearn.linear_model import LinearRegression\n",
    "\n",
    "lin_reg = LinearRegression()\n",
    "lin_reg.fit(X, y)\n",
    "\n",
    "lin_reg.intercept_, lin_reg.coef_"
   ]
  },
  {
   "cell_type": "code",
   "execution_count": 6,
   "metadata": {},
   "outputs": [
    {
     "data": {
      "text/plain": [
       "array([[3.83135638],\n",
       "       [9.90769976]])"
      ]
     },
     "execution_count": 6,
     "metadata": {},
     "output_type": "execute_result"
    }
   ],
   "source": [
    "lin_reg.predict(X_new)"
   ]
  },
  {
   "cell_type": "markdown",
   "metadata": {},
   "source": [
    "LinearRegression 클래스는 `scipy.linalg.lstsq()` 함수를 기반으로 하기 때문에 이를 직접 호출할 수 있음  \n",
    "∂ = X+ y  \n",
    "*X+은 X의 유사역행렬"
   ]
  },
  {
   "cell_type": "code",
   "execution_count": 7,
   "metadata": {},
   "outputs": [
    {
     "data": {
      "text/plain": [
       "array([[3.83135638],\n",
       "       [3.03817169]])"
      ]
     },
     "execution_count": 7,
     "metadata": {},
     "output_type": "execute_result"
    }
   ],
   "source": [
    "theta_best_svd, residuals, rank, s = np.linalg.lstsq(X_b, y, rcond = 1e-6)\n",
    "theta_best"
   ]
  },
  {
   "cell_type": "markdown",
   "metadata": {},
   "source": [
    "`np.linalg.pinv()` 유사역행렬 계산  \n",
    "유사역행렬은 특잇값 분해(SVD)라 부르는 표준 <u>행렬 분해 기법</u>을 사용하여 계산됨"
   ]
  },
  {
   "cell_type": "code",
   "execution_count": 8,
   "metadata": {},
   "outputs": [
    {
     "data": {
      "text/plain": [
       "array([[3.83135638],\n",
       "       [3.03817169]])"
      ]
     },
     "execution_count": 8,
     "metadata": {},
     "output_type": "execute_result"
    }
   ],
   "source": [
    "np.linalg.pinv(X_b).dot(y)"
   ]
  },
  {
   "cell_type": "markdown",
   "metadata": {},
   "source": [
    "정규방정식은 (n+1)x(n+1) 크기의 X'X 역행렬을 계산함  \n",
    "그러나 특성 수가 늘어나면 매우 느려진다!"
   ]
  },
  {
   "cell_type": "markdown",
   "metadata": {},
   "source": [
    "## 4.2 경사 하강법(Gradient descent)\n",
    "특성, 훈련 샘플이 매우 많아 메모리에 담을 수 없을 때 사용하며, 비용 함수를 최소화하기 위해 반복하여 파라미터를 조정함\n",
    "\n",
    "<img src='http://rasbt.github.io/mlxtend/user_guide/general_concepts/gradient-optimization_files/ball.png' width=50%>\n",
    "\n",
    "- 임의의 값에서 그레디언트가 감소하는 방향으로 진행(0이 되도록)\n",
    "- 학습 스텝 크기(학습률, learning rate)은 비용 함수의 기울기에 비례"
   ]
  },
  {
   "cell_type": "markdown",
   "metadata": {},
   "source": [
    "<img src = 'https://www.researchgate.net/profile/Md-Saiful-Islam-15/publication/338621083/figure/fig4/AS:847811214069760@1579145353037/Gradient-Descent-Stuck-at-Local-Minima-18.ppm' width=50%>\n",
    "\n",
    "- 그러나 무작위 초기화 때문에 전역 최솟값이 아닌 지역 최솟값에 도달하여 멈출 수도 있음\n",
    "- 선형 회귀는 볼록 함수이기 때문에 지역 최솟값이 없고 하나의 전역 최솟값만 가지고 있음\n",
    "\n",
    "### 경사하강법을 사용할 땐 모든 특성이 같은 스케일로 만들어야 함! 그렇지 않으면 수렴에 오랜 시간이 걸림!!"
   ]
  },
  {
   "cell_type": "markdown",
   "metadata": {},
   "source": [
    "### 4.2.1 배치 경사 하강법\n",
    "경사 하강법을 구하기 위해서는 **세타가 변경될 때 비용 함수가 얼마나 바뀌는지 계산**해야 함(=편도함수)"
   ]
  },
  {
   "cell_type": "markdown",
   "metadata": {},
   "source": [
    "해당 알고리즘 구현"
   ]
  },
  {
   "cell_type": "code",
   "execution_count": 9,
   "metadata": {},
   "outputs": [
    {
     "data": {
      "text/plain": [
       "array([[3.83135638],\n",
       "       [3.03817169]])"
      ]
     },
     "execution_count": 9,
     "metadata": {},
     "output_type": "execute_result"
    }
   ],
   "source": [
    "eta = 0.1 #학습률\n",
    "n_iterations = 1000\n",
    "m = 100\n",
    "\n",
    "theta = np.random.randn(2, 1) #무작위 초기화\n",
    "\n",
    "for iteration in range(n_iterations):\n",
    "    gradients = 2/m * X_b.T.dot(X_b.dot(theta)-y)\n",
    "    theta = theta - eta * gradients\n",
    "    \n",
    "theta"
   ]
  },
  {
   "cell_type": "markdown",
   "metadata": {},
   "source": [
    "적절한 학습률을 찾기 위해서는 *그리드 탐색*을 사용하지만 오래 걸리는 모델을 막기 위해 <u>반복 횟수를 제한함</u>  \n",
    "반복 횟수를 크게 지정하고, 그래디언트 벡터가 아주 작아지면(허용오차보다 작아짐) 경사하강법이 최솟값에 도달한 것으로 보고 알고리즘 중지"
   ]
  },
  {
   "cell_type": "markdown",
   "metadata": {},
   "source": [
    "### 4.2.2 확률적 경사 하강법\n",
    "- 매 스텝에서 **한 개의 샘플을 무작위로 선택**하고 하나의 샘플에 대한 그레디언트를 계산(배치 경사는 매 스텝에서 전체 훈련 세트를 사용) \n",
    "- 무작위라 배치  경사 하강법보다 불안정하지만 비용 함수가 불규칙할 때 전역 최솟값을 찾을 가능성이 높음\n",
    "- 학습률을 점진적으로 감소시키는 것으로 딜레마를 해결할 수 있음"
   ]
  },
  {
   "cell_type": "markdown",
   "metadata": {},
   "source": [
    "`학습 스케쥴` 반복에서 학습률 결정  \n",
    "학습 스케쥴을ㅇ 사용한 확률적 경사 하강법의 구현"
   ]
  },
  {
   "cell_type": "code",
   "execution_count": 11,
   "metadata": {},
   "outputs": [],
   "source": [
    "n_epochs = 50\n",
    "t0, t1 = 5, 50 #학습 스케줄 파라미터\n",
    "\n",
    "def learning_schedult(t):\n",
    "    return t0/(t+t1)\n",
    "\n",
    "theta = np.random.randn(2, 1) #무작위 초기화\n",
    "\n",
    "for epoch in range(n_epochs):\n",
    "    for i in range(m):\n",
    "        random_index = np.random.randint(m)\n",
    "        \n",
    "        xi = X_b[random_index:random_index+1]\n",
    "        yi = y[random_index:random_index+1]\n",
    "        \n",
    "        gradients = 2*xi.T.dot(xi.dot(theta)-yi)\n",
    "        eta = learning_schedult(epoch*m+i)\n",
    "        theta = theta - eta * gradients\n",
    "        \n",
    "# m: 반복(epoch)"
   ]
  },
  {
   "cell_type": "code",
   "execution_count": 12,
   "metadata": {},
   "outputs": [
    {
     "data": {
      "text/plain": [
       "array([[3.82377762],\n",
       "       [3.01868682]])"
      ]
     },
     "execution_count": 12,
     "metadata": {},
     "output_type": "execute_result"
    }
   ],
   "source": [
    "theta"
   ]
  },
  {
   "cell_type": "markdown",
   "metadata": {},
   "source": [
    "**? 훈련 샘플 섞기**  \n",
    "확률적 경사 하강법을 사용할 때 훈련 샘플이 IID(independent and identically distributed)를 만족해야 전역 최적점을 향해 진행한다 볼 수 있음.  \n",
    "이를 위해 훈련 세트를 섞음(입력 특성과 레이블을 동일하게 섞어야 함)  \n",
    "만약 레이블 순서대로 정렬된 샘플을 그대로 사용한다면 한 레이블에 최적화될 것"
   ]
  },
  {
   "cell_type": "markdown",
   "metadata": {},
   "source": [
    "`SGDRegressor` SGD 선형회귀를 사용하기 위해 제곱 오차 비용 함수를 최적화하는 클래스 사용  \n",
    "- max_iter: epoch\n",
    "- tol: 한 에포크에서 파라미터보다 적게 손실이 줄어들 때까지 실행\n",
    "- eta: 학습률\n",
    "- penalty: 규제"
   ]
  },
  {
   "cell_type": "code",
   "execution_count": 13,
   "metadata": {},
   "outputs": [
    {
     "data": {
      "text/plain": [
       "SGDRegressor(eta0=0.1, penalty=None)"
      ]
     },
     "execution_count": 13,
     "metadata": {},
     "output_type": "execute_result"
    }
   ],
   "source": [
    "from sklearn.linear_model import SGDRegressor\n",
    "\n",
    "sgd_reg = SGDRegressor(max_iter=1000, tol=1e-3, penalty=None, eta0 = 0.1)\n",
    "sgd_reg.fit(X, y.ravel())"
   ]
  },
  {
   "cell_type": "code",
   "execution_count": 14,
   "metadata": {},
   "outputs": [
    {
     "data": {
      "text/plain": [
       "(array([3.81883798]), array([3.02180601]))"
      ]
     },
     "execution_count": 14,
     "metadata": {},
     "output_type": "execute_result"
    }
   ],
   "source": [
    "sgd_reg.intercept_, sgd_reg.coef_"
   ]
  },
  {
   "cell_type": "markdown",
   "metadata": {},
   "source": [
    "### 4.2.3 미니배치 경사 하강법\n",
    "- `미니배치`라는 임의의 sample set에 대해 그레이디언트를 계산\n",
    "- 행렬 연산에 최적화된 하드웨어, GPU를 사용하여 얻는 성능 향상이 장점\n",
    "- 미니배치를 크게 하면 SGD보다 덜 불규칙하게 움직임\n",
    "- 지역 최솟값에서 빠져나오기는 **더** 힘들 수 있음"
   ]
  },
  {
   "cell_type": "markdown",
   "metadata": {},
   "source": [
    "## 4.3 다항 회귀\n",
    "비선형 데이터에 사용"
   ]
  },
  {
   "cell_type": "markdown",
   "metadata": {},
   "source": [
    "2차방정식으로 비선형 데이터 생성하기"
   ]
  },
  {
   "cell_type": "code",
   "execution_count": 15,
   "metadata": {},
   "outputs": [],
   "source": [
    "m = 100\n",
    "X = 6*np.random.rand(m, 1) - 3\n",
    "y = 0.5 * X**2 + X+2 + np.random.randn(m, 1)"
   ]
  },
  {
   "cell_type": "markdown",
   "metadata": {},
   "source": [
    "`PolynomialFeatures`를 사용해 훈련 데이터 변환  \n",
    "degree: 차수  \n",
    "주어진 차수까지 특성 간의 모든 교차항을 추가"
   ]
  },
  {
   "cell_type": "code",
   "execution_count": 16,
   "metadata": {},
   "outputs": [
    {
     "data": {
      "text/plain": [
       "array([2.51850669])"
      ]
     },
     "execution_count": 16,
     "metadata": {},
     "output_type": "execute_result"
    }
   ],
   "source": [
    "from sklearn.preprocessing import PolynomialFeatures\n",
    "\n",
    "poly_features = PolynomialFeatures(degree=2, include_bias = False)\n",
    "X_poly = poly_features.fit_transform(X)\n",
    "X[0]"
   ]
  },
  {
   "cell_type": "code",
   "execution_count": 17,
   "metadata": {},
   "outputs": [
    {
     "data": {
      "text/plain": [
       "array([2.51850669, 6.34287595])"
      ]
     },
     "execution_count": 17,
     "metadata": {},
     "output_type": "execute_result"
    }
   ],
   "source": [
    "X_poly[0]"
   ]
  },
  {
   "cell_type": "markdown",
   "metadata": {},
   "source": [
    "X_poly는 원래 특성 X와 제곱을 포함"
   ]
  },
  {
   "cell_type": "code",
   "execution_count": 18,
   "metadata": {},
   "outputs": [
    {
     "data": {
      "text/plain": [
       "(array([2.77555756e-17]), array([[1.00000000e+00, 1.82395305e-17]]))"
      ]
     },
     "execution_count": 18,
     "metadata": {},
     "output_type": "execute_result"
    }
   ],
   "source": [
    "lin_reg = LinearRegression()\n",
    "lin_reg.fit(X_poly, X)\n",
    "lin_reg.intercept_, lin_reg.coef_"
   ]
  },
  {
   "cell_type": "markdown",
   "metadata": {},
   "source": [
    "## 4.4 학습 곡선\n",
    "- 모델의 과적합을 판별하는 방법 중 하나(다른 하나는 교차 검증)\n",
    "- 훈련 세트와 검증 세트의 모델 성능을 훈련 세트 크기(반복)의 함수로 나타냄"
   ]
  },
  {
   "cell_type": "code",
   "execution_count": 35,
   "metadata": {},
   "outputs": [],
   "source": [
    "from sklearn.metrics import mean_squared_error\n",
    "from sklearn.model_selection import train_test_split\n",
    "\n",
    "def plot_learning_curves(model, X, y):\n",
    "    X_train, X_val, y_train, y_val = train_test_split(X, y, test_size=0.2, random_state=10)\n",
    "    train_errors, val_errors = [], []\n",
    "    \n",
    "    for m in range(1, len(X_train)):\n",
    "        model.fit(X_train[:m], y_train[:m])\n",
    "        y_train_predict = model.predict(X_train[:m])\n",
    "        y_val_predict = model.predict(X_val)\n",
    "        train_errors.append(mean_squared_error(y_train[:m], y_train_predict))\n",
    "        val_errors.append(mean_squared_error(y_val, y_val_predict))\n",
    "\n",
    "    plt.plot(np.sqrt(train_errors), \"r-+\", linewidth=2, label=\"훈련 세트\")\n",
    "    plt.plot(np.sqrt(val_errors), \"b-\", linewidth=3, label=\"검증 세트\")"
   ]
  },
  {
   "cell_type": "code",
   "execution_count": 25,
   "metadata": {},
   "outputs": [
    {
     "data": {
      "image/png": "[encoded data removed]",
      "text/plain": [
       "<Figure size 432x288 with 1 Axes>"
      ]
     },
     "metadata": {
      "needs_background": "light"
     },
     "output_type": "display_data"
    }
   ],
   "source": [
    "lin_reg = LinearRegression()\n",
    "plot_learning_curves(lin_reg, X, y)"
   ]
  },
  {
   "cell_type": "markdown",
   "metadata": {},
   "source": [
    "과소적합된 모델의 전형적인 모습. 두 곡선이 수평한 구간을 만들고 높은 오차에서 가까이 근접  \n",
    "cf) 모델이 훈련 데이터에 과소적합이라면 훈련 샘플을 더 추가해도 효과가 없음! 더 복잡한 모델 사용/더 나은 특성 선택으로 해결"
   ]
  },
  {
   "cell_type": "code",
   "execution_count": 26,
   "metadata": {},
   "outputs": [
    {
     "data": {
      "image/png": "[encoded data removed]",
      "text/plain": [
       "<Figure size 432x288 with 1 Axes>"
      ]
     },
     "metadata": {
      "needs_background": "light"
     },
     "output_type": "display_data"
    }
   ],
   "source": [
    "#10차 다항회귀모델의 학습 곡선\n",
    "from sklearn.pipeline import Pipeline\n",
    "\n",
    "polynomial_regression = Pipeline([\n",
    "    ('poly_features', PolynomialFeatures(degree=10, include_bias=False)),\n",
    "    ('lin_reg', LinearRegression()),\n",
    "])\n",
    "\n",
    "plot_learning_curves(polynomial_regression, X, y)"
   ]
  },
  {
   "cell_type": "markdown",
   "metadata": {},
   "source": [
    "- 훈련 데이터의 오차가 선형 회귀 모델보다 훨씬 낮음 \n",
    "- 두 곡선 사이의 공간은 과대적합 모델의 특징"
   ]
  },
  {
   "cell_type": "markdown",
   "metadata": {},
   "source": [
    "**편향-분산 트레이드오프**\n",
    "- 편향\n",
    "    - 잘못된 가정(ex. 데이터가 2년차인데 3년차로 가정)으로 일어남. 과소적합되기 쉬움\n",
    "\n",
    "- 분산\n",
    "    - 작은 변동에 모델이 과도하게 민감하기 때문에 일어남. 과대적합되기 쉬움\n",
    "    \n",
    "- 줄일 수 없는 오차\n",
    "    - 데이터 자체에 있는 잡음으로 발생, 잡음 제거로 오차를 줄일 수 있음\n",
    "    \n",
    "    \n",
    "모델의 복잡도가 커지면 분산이 늘어나고 편향이 줄어들며, 복잡도가 줄어들면 이와 반대!"
   ]
  },
  {
   "cell_type": "markdown",
   "metadata": {},
   "source": [
    "## 4.5 규제가 있는 선형 모델\n",
    "- 규제: 과대적합을 감소시키는 방법  \n",
    "- 다항 회귀의 경우 다항식의 차수를 감소시킴\n",
    "- 선형 회귀 모델에서는 보통 모델의 가중치를 제한함"
   ]
  },
  {
   "cell_type": "markdown",
   "metadata": {},
   "source": [
    "### 4.5.1 릿지 회귀\n",
    "- 규제항은 학습 알고리즘을 데이터에 맞추는 것 뿐 아니라 모델의 가중치가 가능한 작게 유지되도록 노력\n",
    "- 모델 훈련이 끝나면 성능을 규제 없는 성능 지표로 평가\n",
    "- α: 모델을 얼마나 규제할지, α가 커질수록 수평선이 됨"
   ]
  },
  {
   "cell_type": "markdown",
   "metadata": {},
   "source": [
    "정규방정식을 사용한 사이킷런 릿지 회귀 적용 예시"
   ]
  },
  {
   "cell_type": "code",
   "execution_count": 28,
   "metadata": {},
   "outputs": [
    {
     "data": {
      "text/plain": [
       "array([[4.81333382]])"
      ]
     },
     "execution_count": 28,
     "metadata": {},
     "output_type": "execute_result"
    }
   ],
   "source": [
    "from sklearn.linear_model import Ridge\n",
    "\n",
    "ridge_reg = Ridge(alpha=-1, solver = 'cholesky')\n",
    "ridge_reg.fit(X, y)\n",
    "ridge_reg.predict([[1.5]])"
   ]
  },
  {
   "cell_type": "markdown",
   "metadata": {},
   "source": [
    "확률적 경사 하강법을 사용했을 때  \n",
    "`penalty = 'l2'` 비용 함수에 규제항 추가(=릿지회귀)"
   ]
  },
  {
   "cell_type": "code",
   "execution_count": 30,
   "metadata": {},
   "outputs": [
    {
     "data": {
      "text/plain": [
       "array([4.79475725])"
      ]
     },
     "execution_count": 30,
     "metadata": {},
     "output_type": "execute_result"
    }
   ],
   "source": [
    "sgd_reg = SGDRegressor(penalty='l2')\n",
    "sgd_reg.fit(X, y.ravel())\n",
    "sgd_reg.predict([[1.5]])"
   ]
  },
  {
   "cell_type": "markdown",
   "metadata": {},
   "source": [
    "### 4.5.2 라쏘 회귀\n",
    "- 덜 중요한 특성의 가중치를 제거\n",
    "- 자동으로 특성 선택을 하고 희소 모델(sparse model)을 만든다"
   ]
  },
  {
   "cell_type": "code",
   "execution_count": 31,
   "metadata": {},
   "outputs": [
    {
     "data": {
      "text/plain": [
       "array([4.76333499])"
      ]
     },
     "execution_count": 31,
     "metadata": {},
     "output_type": "execute_result"
    }
   ],
   "source": [
    "from sklearn.linear_model import Lasso\n",
    "\n",
    "lasso_reg = Lasso(alpha = 0.1)\n",
    "lasso_reg.fit(X, y)\n",
    "lasso_reg.predict([[1.5]])"
   ]
  },
  {
   "cell_type": "markdown",
   "metadata": {},
   "source": [
    "Lasso 대신 SGDRegressor(`penalty='l1'`)을 사용할 수도 있음"
   ]
  },
  {
   "cell_type": "markdown",
   "metadata": {},
   "source": [
    "### 4.5.3 엘라스틱넷\n",
    "- 릿지와 라쏘의 절충 모델\n",
    "- 혼합 정도는 혼합 비율 r을 사용해 조절\n",
    "    - r = 0: Ridge\n",
    "    - r = 1: Lasso\n",
    "    \n",
    "- 릿지가 기본이 되지만 쓰이는 특성이 몇 개 뿐이라면 라쏘나 엘라스틱넷이 낫다!"
   ]
  },
  {
   "cell_type": "code",
   "execution_count": 32,
   "metadata": {},
   "outputs": [
    {
     "data": {
      "text/plain": [
       "array([4.76584464])"
      ]
     },
     "execution_count": 32,
     "metadata": {},
     "output_type": "execute_result"
    }
   ],
   "source": [
    "from sklearn.linear_model import ElasticNet\n",
    "\n",
    "elastic_net = ElasticNet(alpha = 0.1, l1_ratio = 0.5)\n",
    "elastic_net.fit(X, y)\n",
    "elastic_net.predict([[1.5]])"
   ]
  },
  {
   "cell_type": "markdown",
   "metadata": {},
   "source": [
    "### 4.5.4 조기 종료\n",
    "규제의 다른 방식은 에러가 최솟값에 도달하면 훈련을 중지하는 것(조기종료)"
   ]
  },
  {
   "cell_type": "markdown",
   "metadata": {},
   "source": [
    "`warm_start = True` fit()이 호출될 때 처음부터 시작하지 않고 이전 모델 파라미터에서 훈련을 이어함"
   ]
  },
  {
   "cell_type": "code",
   "execution_count": 36,
   "metadata": {},
   "outputs": [
    {
     "ename": "NameError",
     "evalue": "name 'X_train' is not defined",
     "output_type": "error",
     "traceback": [
      "\u001b[1;31m---------------------------------------------------------------------------\u001b[0m",
      "\u001b[1;31mNameError\u001b[0m                                 Traceback (most recent call last)",
      "\u001b[1;32m<ipython-input-36-6f63474b5ac7>\u001b[0m in \u001b[0;36m<module>\u001b[1;34m\u001b[0m\n\u001b[0;32m      7\u001b[0m ])\n\u001b[0;32m      8\u001b[0m \u001b[1;33m\u001b[0m\u001b[0m\n\u001b[1;32m----> 9\u001b[1;33m \u001b[0mX_train_poly_scaled\u001b[0m \u001b[1;33m=\u001b[0m \u001b[0mpoly_scaler\u001b[0m\u001b[1;33m.\u001b[0m\u001b[0mfit_transform\u001b[0m\u001b[1;33m(\u001b[0m\u001b[0mX_train\u001b[0m\u001b[1;33m)\u001b[0m\u001b[1;33m\u001b[0m\u001b[1;33m\u001b[0m\u001b[0m\n\u001b[0m\u001b[0;32m     10\u001b[0m \u001b[0mX_val_poly_scaled\u001b[0m \u001b[1;33m=\u001b[0m \u001b[0mpoly_scaler\u001b[0m\u001b[1;33m.\u001b[0m\u001b[0mtransform\u001b[0m\u001b[1;33m(\u001b[0m\u001b[0mX_val\u001b[0m\u001b[1;33m)\u001b[0m\u001b[1;33m\u001b[0m\u001b[1;33m\u001b[0m\u001b[0m\n\u001b[0;32m     11\u001b[0m \u001b[1;33m\u001b[0m\u001b[0m\n",
      "\u001b[1;31mNameError\u001b[0m: name 'X_train' is not defined"
     ]
    }
   ],
   "source": [
    "from sklearn.preprocessing import StandardScaler\n",
    "from sklearn.base import clone\n",
    "\n",
    "poly_scaler = Pipeline([\n",
    "    ('poly_features', PolynomialFeatures(degree=90, include_bias = False)),\n",
    "    ('std_scaler', StandardScaler())\n",
    "])\n",
    "\n",
    "X_train_poly_scaled = poly_scaler.fit_transform(X_train)\n",
    "X_val_poly_scaled = poly_scaler.transform(X_val)\n",
    "\n",
    "sgd_reg = SGDRegressor(max_iter = 1, tol = np.infty, warm_start = True, penalty = None, learning_rage = 'constant', eta0 = 0.0005)\n",
    "\n",
    "minimum_val_error = float('inf')\n",
    "best_epoch = None\n",
    "best_model = None\n",
    "\n",
    "for epoch in range(1000):\n",
    "    sgd_reg.fit(X_train_poly_scaled, y_train)\n",
    "    y_val_predict = sgd_reg.predict(X_val_poly_scaled)\n",
    "    val_error = mean_squared_error(y_val, y_val_predict)\n",
    "    \n",
    "    if val_error<minimum_val_error:\n",
    "        minimum_val_error = val_error\n",
    "        best_epoch = epoch\n",
    "        best_model = clone(sgd_reg)"
   ]
  },
  {
   "cell_type": "code",
   "execution_count": 37,
   "metadata": {},
   "outputs": [
    {
     "ename": "NameError",
     "evalue": "name 'X_train' is not defined",
     "output_type": "error",
     "traceback": [
      "\u001b[1;31m---------------------------------------------------------------------------\u001b[0m",
      "\u001b[1;31mNameError\u001b[0m                                 Traceback (most recent call last)",
      "\u001b[1;32m<ipython-input-37-755069f3c94b>\u001b[0m in \u001b[0;36m<module>\u001b[1;34m\u001b[0m\n\u001b[0;32m      7\u001b[0m     ])\n\u001b[0;32m      8\u001b[0m \u001b[1;33m\u001b[0m\u001b[0m\n\u001b[1;32m----> 9\u001b[1;33m \u001b[0mX_train_poly_scaled\u001b[0m \u001b[1;33m=\u001b[0m \u001b[0mpoly_scaler\u001b[0m\u001b[1;33m.\u001b[0m\u001b[0mfit_transform\u001b[0m\u001b[1;33m(\u001b[0m\u001b[0mX_train\u001b[0m\u001b[1;33m)\u001b[0m\u001b[1;33m\u001b[0m\u001b[1;33m\u001b[0m\u001b[0m\n\u001b[0m\u001b[0;32m     10\u001b[0m \u001b[0mX_val_poly_scaled\u001b[0m \u001b[1;33m=\u001b[0m \u001b[0mpoly_scaler\u001b[0m\u001b[1;33m.\u001b[0m\u001b[0mtransform\u001b[0m\u001b[1;33m(\u001b[0m\u001b[0mX_val\u001b[0m\u001b[1;33m)\u001b[0m\u001b[1;33m\u001b[0m\u001b[1;33m\u001b[0m\u001b[0m\n\u001b[0;32m     11\u001b[0m \u001b[1;33m\u001b[0m\u001b[0m\n",
      "\u001b[1;31mNameError\u001b[0m: name 'X_train' is not defined"
     ]
    }
   ],
   "source": [
    "# 노트북\n",
    "from copy import deepcopy\n",
    "\n",
    "poly_scaler = Pipeline([\n",
    "        (\"poly_features\", PolynomialFeatures(degree=90, include_bias=False)),\n",
    "        (\"std_scaler\", StandardScaler())\n",
    "    ])\n",
    "\n",
    "X_train_poly_scaled = poly_scaler.fit_transform(X_train)\n",
    "X_val_poly_scaled = poly_scaler.transform(X_val)\n",
    "\n",
    "sgd_reg = SGDRegressor(max_iter=1, tol=-np.infty, warm_start=True,\n",
    "                       penalty=None, learning_rate=\"constant\", eta0=0.0005, random_state=42)\n",
    "\n",
    "minimum_val_error = float(\"inf\")\n",
    "best_epoch = None\n",
    "best_model = None\n",
    "for epoch in range(1000):\n",
    "    sgd_reg.fit(X_train_poly_scaled, y_train)  # 중지된 곳에서 다시 시작합니다\n",
    "    y_val_predict = sgd_reg.predict(X_val_poly_scaled)\n",
    "    val_error = mean_squared_error(y_val, y_val_predict)\n",
    "    if val_error < minimum_val_error:\n",
    "        minimum_val_error = val_error\n",
    "        best_epoch = epoch\n",
    "        best_model = deepcopy(sgd_reg)"
   ]
  },
  {
   "cell_type": "markdown",
   "metadata": {},
   "source": [
    "## 4.6 로지스틱 회귀\n",
    "- 샘플이 특정 클래스에 속할 확률을 추정할 때 널리 쓰임\n",
    "- 확률이 50%가 넘으면 해당 클래스에 속한다고 예측(이진 분류기)"
   ]
  },
  {
   "cell_type": "markdown",
   "metadata": {},
   "source": [
    "### 4.6.1 확률 추정\n",
    "- 선형 회귀처럼 바로 결과를 출력하지 않고 결괏값의 `로지스틱logistic`을 출력\n",
    "- 로지스틱은 0과 1 사이의 값을 출력하는 `시그모이드 함수`"
   ]
  },
  {
   "cell_type": "markdown",
   "metadata": {},
   "source": [
    "### 4.6.2 훈련과 비용 함수\n",
    "- 양성 샘플(y=1)에 대해선 높은 확률을 추정하고 음성 샘플(y=0)에선 낮은 확률을 추정하는 모델의 파라미터 벡터 theta 찾기\n",
    "- 맞게 측정할수록 비용이 0에 가까워짐"
   ]
  },
  {
   "cell_type": "markdown",
   "metadata": {},
   "source": [
    "### 4.6.3 결정 경계\n",
    "[iris data]  \n",
    "3종류의 붓꽃, 꽃잎/\n",
    "꽃받침의 너비와 길이"
   ]
  },
  {
   "cell_type": "markdown",
   "metadata": {},
   "source": [
    "꽃잎(petal)의 너비를 기반으로 Versicolor 종을 감지하는 분류기"
   ]
  },
  {
   "cell_type": "code",
   "execution_count": 39,
   "metadata": {},
   "outputs": [
    {
     "data": {
      "text/plain": [
       "['data',\n",
       " 'target',\n",
       " 'frame',\n",
       " 'target_names',\n",
       " 'DESCR',\n",
       " 'feature_names',\n",
       " 'filename']"
      ]
     },
     "execution_count": 39,
     "metadata": {},
     "output_type": "execute_result"
    }
   ],
   "source": [
    "from sklearn import datasets\n",
    "iris = datasets.load_iris()\n",
    "list(iris.keys())"
   ]
  },
  {
   "cell_type": "code",
   "execution_count": 40,
   "metadata": {},
   "outputs": [],
   "source": [
    "X = iris['data'][:, 3:] #꽃잎 너비\n",
    "y = (iris['target'] == 2).astype(np.int) #맞으면 1, 아니면 0"
   ]
  },
  {
   "cell_type": "code",
   "execution_count": 48,
   "metadata": {},
   "outputs": [
    {
     "data": {
      "text/plain": [
       "LogisticRegression()"
      ]
     },
     "execution_count": 48,
     "metadata": {},
     "output_type": "execute_result"
    }
   ],
   "source": [
    "from sklearn.linear_model import LogisticRegression\n",
    "\n",
    "log_reg = LogisticRegression()\n",
    "log_reg.fit(X, y)"
   ]
  },
  {
   "cell_type": "markdown",
   "metadata": {},
   "source": [
    "꽃잎 너비가 0~3cm인 꽃에 대해 추정 확률 계산"
   ]
  },
  {
   "cell_type": "code",
   "execution_count": 49,
   "metadata": {},
   "outputs": [
    {
     "data": {
      "text/plain": [
       "[<matplotlib.lines.Line2D at 0x1756ff56c40>]"
      ]
     },
     "execution_count": 49,
     "metadata": {},
     "output_type": "execute_result"
    },
    {
     "data": {
      "image/png": "[encoded data removed]",
      "text/plain": [
       "<Figure size 432x288 with 1 Axes>"
      ]
     },
     "metadata": {
      "needs_background": "light"
     },
     "output_type": "display_data"
    }
   ],
   "source": [
    "X_new = np.linspace(0, 3, 1000).reshape(-1, 1)\n",
    "y_proba = log_reg.predict_proba(X_new)\n",
    "\n",
    "plt.plot(X_new, y_proba[:, 1], 'g-', label = 'Iris virginica')\n",
    "plt.plot(X_new, y_proba[:, 0], 'b--', label = 'Not Iris virginica')"
   ]
  },
  {
   "cell_type": "code",
   "execution_count": 50,
   "metadata": {},
   "outputs": [
    {
     "data": {
      "text/plain": [
       "array([1, 0])"
      ]
     },
     "execution_count": 50,
     "metadata": {},
     "output_type": "execute_result"
    }
   ],
   "source": [
    "log_reg.predict([[1.7], [1.5]])"
   ]
  },
  {
   "cell_type": "markdown",
   "metadata": {},
   "source": [
    "로지스틱 회귀의 규제 하이퍼 파라미터는 alpha가 아니라 그의 역수인 C  \n",
    "C가 높을수록 규제가 줄어든다"
   ]
  },
  {
   "cell_type": "markdown",
   "metadata": {},
   "source": [
    "### 4.6.4 소프트맥스 회귀\n",
    "- 직접 다중 클래스를 지원하도록 일반화 될 수 있음! 이를 `소프트맥스 회귀` 또는 `다항 로지스틱 회귀`라고 함\n",
    "- sample이 주어지면 모델이 클래스 k에 대한 점수 s(x)를 계산하고, s(x)에 소프트맥스 함수를 적용해 클래스의 확률을 추정\n",
    "- 한 번에 하나의 클래스만 예측(다중 클래스, not 다중 출력)\n",
    "\n",
    "\n",
    "`argmax` 함수를 최대화하는 변수의 값 반환 "
   ]
  },
  {
   "cell_type": "markdown",
   "metadata": {},
   "source": [
    "- Logistic Regression은 클래스가 둘 이상일 때 일대다(OvA) 방식을 사용하지만 multi_class 매개변수를 `multinomial`로 바꾸면 소프트맥스 회귀 사용 가능  \n",
    "- 이를 사용하려면 solver 매개변수에 `lbfgs`와 같이 지원하는 알고리즘 지정  \n",
    "- 기본적으로 C를 사용해 조절할 수 있는 l2 규제가 적용"
   ]
  },
  {
   "cell_type": "code",
   "execution_count": 51,
   "metadata": {},
   "outputs": [
    {
     "data": {
      "text/plain": [
       "LogisticRegression(C=10, multi_class='multinomial')"
      ]
     },
     "execution_count": 51,
     "metadata": {},
     "output_type": "execute_result"
    }
   ],
   "source": [
    "X = iris['data'][:, (2,3)] #꽃잎 길이, 너비\n",
    "y = iris['target']\n",
    "\n",
    "softmax_reg = LogisticRegression(multi_class = 'multinomial', solver = 'lbfgs', C = 10)\n",
    "softmax_reg.fit(X, y)"
   ]
  },
  {
   "cell_type": "code",
   "execution_count": 52,
   "metadata": {},
   "outputs": [
    {
     "data": {
      "text/plain": [
       "array([2])"
      ]
     },
     "execution_count": 52,
     "metadata": {},
     "output_type": "execute_result"
    }
   ],
   "source": [
    "softmax_reg.predict([[5, 2]])"
   ]
  },
  {
   "cell_type": "code",
   "execution_count": 54,
   "metadata": {},
   "outputs": [
    {
     "data": {
      "text/plain": [
       "array([[6.38014896e-07, 5.74929995e-02, 9.42506362e-01]])"
      ]
     },
     "execution_count": 54,
     "metadata": {},
     "output_type": "execute_result"
    }
   ],
   "source": [
    "softmax_reg.predict_proba([[5, 2]])"
   ]
  }
 ],
 "metadata": {
  "kernelspec": {
   "display_name": "Python 3",
   "language": "python",
   "name": "python3"
  },
  "language_info": {
   "codemirror_mode": {
    "name": "ipython",
    "version": 3
   },
   "file_extension": ".py",
   "mimetype": "text/x-python",
   "name": "python",
   "nbconvert_exporter": "python",
   "pygments_lexer": "ipython3",
   "version": "3.8.3"
  }
 },
 "nbformat": 4,
 "nbformat_minor": 4
}
